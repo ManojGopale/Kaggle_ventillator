{
 "cells": [
  {
   "cell_type": "code",
   "execution_count": 1,
   "id": "0d288bd0",
   "metadata": {
    "_cell_guid": "b1076dfc-b9ad-4769-8c92-a6c4dae69d19",
    "_uuid": "8f2839f25d086af736a60e9eeb907d3b93b6e0e5",
    "execution": {
     "iopub.execute_input": "2021-10-18T14:54:26.360350Z",
     "iopub.status.busy": "2021-10-18T14:54:26.359166Z",
     "iopub.status.idle": "2021-10-18T14:54:26.376390Z",
     "shell.execute_reply": "2021-10-18T14:54:26.377154Z",
     "shell.execute_reply.started": "2021-10-18T14:50:14.103844Z"
    },
    "papermill": {
     "duration": 0.036147,
     "end_time": "2021-10-18T14:54:26.377527",
     "exception": false,
     "start_time": "2021-10-18T14:54:26.341380",
     "status": "completed"
    },
    "tags": []
   },
   "outputs": [
    {
     "name": "stdout",
     "output_type": "stream",
     "text": [
      "/kaggle/input/ventilator-pressure-prediction/sample_submission.csv\n",
      "/kaggle/input/ventilator-pressure-prediction/train.csv\n",
      "/kaggle/input/ventilator-pressure-prediction/test.csv\n"
     ]
    }
   ],
   "source": [
    "# This Python 3 environment comes with many helpful analytics libraries installed\n",
    "# It is defined by the kaggle/python Docker image: https://github.com/kaggle/docker-python\n",
    "# For example, here's several helpful packages to load\n",
    "\n",
    "import numpy as np # linear algebra\n",
    "import pandas as pd # data processing, CSV file I/O (e.g. pd.read_csv)\n",
    "\n",
    "# Input data files are available in the read-only \"../input/\" directory\n",
    "# For example, running this (by clicking run or pressing Shift+Enter) will list all files under the input directory\n",
    "\n",
    "import os\n",
    "for dirname, _, filenames in os.walk('/kaggle/input'):\n",
    "    for filename in filenames:\n",
    "        print(os.path.join(dirname, filename))\n",
    "\n",
    "# You can write up to 20GB to the current directory (/kaggle/working/) that gets preserved as output when you create a version using \"Save & Run All\" \n",
    "# You can also write temporary files to /kaggle/temp/, but they won't be saved outside of the current session"
   ]
  },
  {
   "cell_type": "code",
   "execution_count": 2,
   "id": "a0e5d7bb",
   "metadata": {
    "execution": {
     "iopub.execute_input": "2021-10-18T14:54:26.405242Z",
     "iopub.status.busy": "2021-10-18T14:54:26.404558Z",
     "iopub.status.idle": "2021-10-18T14:54:46.706902Z",
     "shell.execute_reply": "2021-10-18T14:54:46.707614Z",
     "shell.execute_reply.started": "2021-10-18T14:50:18.949394Z"
    },
    "papermill": {
     "duration": 20.317447,
     "end_time": "2021-10-18T14:54:46.707861",
     "exception": false,
     "start_time": "2021-10-18T14:54:26.390414",
     "status": "completed"
    },
    "tags": []
   },
   "outputs": [
    {
     "name": "stdout",
     "output_type": "stream",
     "text": [
      "   id  breath_id  R   C  time_step       u_in  u_out\n",
      "0   1          0  5  20   0.000000   0.000000      0\n",
      "1   2          0  5  20   0.031904   7.515046      0\n",
      "2   3          0  5  20   0.063827  14.651675      0\n",
      "3   4          0  5  20   0.095751  21.230610      0\n",
      "4   5          0  5  20   0.127644  26.320956      0\n",
      "(6036000, 8)\n",
      "(4024000, 7)\n"
     ]
    }
   ],
   "source": [
    "##Analyze the ventillator pressure dataset\n",
    "import pandas as pd\n",
    "import numpy as np\n",
    "##Create a NN model\n",
    "import tensorflow as tf\n",
    "from tensorflow.keras.models import Sequential, load_model\n",
    "from tensorflow.keras.layers import Dense, Activation, Dropout, LSTM\n",
    "from tensorflow.keras.callbacks import CSVLogger, TensorBoard, ModelCheckpoint, EarlyStopping\n",
    "from tensorflow.keras.preprocessing.sequence import TimeseriesGenerator\n",
    "from tensorflow.keras.preprocessing import timeseries_dataset_from_array\n",
    "\n",
    "DEBUG = False\n",
    "\n",
    "trainDataPath = \"/kaggle/input/ventilator-pressure-prediction/train.csv\"\n",
    "df_data = pd.read_csv(trainDataPath, header=0)\n",
    "\n",
    "df_data.head()\n",
    "#df_data.describe()\n",
    "\n",
    "testDataPath = \"/kaggle/input/ventilator-pressure-prediction/test.csv\"\n",
    "df_test = pd.read_csv(testDataPath, header=0)\n",
    "\n",
    "print(df_test.head())\n",
    "\n",
    "if DEBUG:\n",
    "    df_data = df_data.iloc[:80*100, :]\n",
    "    df_test = df_test.iloc[:80*100, :]\n",
    "print(df_data.shape)\n",
    "print(df_test.shape)"
   ]
  },
  {
   "cell_type": "code",
   "execution_count": 3,
   "id": "0f97c21b",
   "metadata": {
    "execution": {
     "iopub.execute_input": "2021-10-18T14:54:46.739944Z",
     "iopub.status.busy": "2021-10-18T14:54:46.739199Z",
     "iopub.status.idle": "2021-10-18T14:54:46.742630Z",
     "shell.execute_reply": "2021-10-18T14:54:46.742084Z",
     "shell.execute_reply.started": "2021-10-18T08:11:47.434678Z"
    },
    "papermill": {
     "duration": 0.021714,
     "end_time": "2021-10-18T14:54:46.742797",
     "exception": false,
     "start_time": "2021-10-18T14:54:46.721083",
     "status": "completed"
    },
    "tags": []
   },
   "outputs": [],
   "source": [
    "# df_data = df_data.iloc[0:240, :]\n",
    "# df_data[\"u_in_prev1\"] = df_data.groupby(\"breath_id\")[\"u_in\"].shift(1, fill_value=0)\n",
    "# df_data[\"u_in_prev2\"] = df_data.groupby(\"breath_id\")[\"u_in\"].shift(2, fill_value=0)\n",
    "# df_data[\"u_in_prev3\"] = df_data.groupby(\"breath_id\")[\"u_in\"].shift(3, fill_value=0)\n",
    "# df_data[\"u_in_next1\"] = df_data.groupby(\"breath_id\")[\"u_in\"].shift(-1, fill_value=0)\n",
    "# df_data[\"u_in_next2\"] = df_data.groupby(\"breath_id\")[\"u_in\"].shift(-2, fill_value=0)\n",
    "# df_data[\"u_in_next3\"] = df_data.groupby(\"breath_id\")[\"u_in\"].shift(-3, fill_value=0)\n",
    "# df_data[\"u_in_cumm\"] = df_data.groupby(\"breath_id\")[\"u_in\"].cumsum()\n",
    "# df_data[\"area\"] = df_data[\"time_step\"]*df_data[\"u_in\"]\n",
    "# df_data[\"area\"] = df_data.groupby(\"breath_id\")[\"area\"].cumsum()\n",
    "# df_data[\"u_in_diff1\"] = df_data[\"u_in\"] - df_data[\"u_in_prev1\"]\n",
    "# df_data[\"u_in_diff2\"] = df_data[\"u_in\"] - df_data[\"u_in_prev2\"]\n",
    "# df_data[\"u_in_diff3\"] = df_data[\"u_in\"] - df_data[\"u_in_prev3\"]\n",
    "\n",
    "# df_data[\"u_out_prev1\"] = df_data.groupby(\"breath_id\")[\"u_out\"].shift(1, fill_value=0)\n",
    "# df_data[\"u_out_prev2\"] = df_data.groupby(\"breath_id\")[\"u_out\"].shift(2, fill_value=0)\n",
    "# df_data[\"u_out_prev3\"] = df_data.groupby(\"breath_id\")[\"u_out\"].shift(3, fill_value=0)\n",
    "# df_data[\"u_out_next1\"] = df_data.groupby(\"breath_id\")[\"u_out\"].shift(-1, fill_value=0)\n",
    "# df_data[\"u_out_next2\"] = df_data.groupby(\"breath_id\")[\"u_out\"].shift(-2, fill_value=0)\n",
    "# df_data[\"u_out_next3\"] = df_data.groupby(\"breath_id\")[\"u_out\"].shift(-3, fill_value=0)\n",
    "# df_data[\"u_out_diff1\"] = df_data[\"u_out\"] - df_data[\"u_out_prev1\"]\n",
    "# df_data[\"u_out_diff2\"] = df_data[\"u_out\"] - df_data[\"u_out_prev2\"]\n",
    "# df_data[\"u_out_diff3\"] = df_data[\"u_out\"] - df_data[\"u_out_prev3\"]\n",
    "\n",
    "# df_data[\"u_in_diff_max\"] = df_data.groupby(\"breath_id\")[\"u_in\"].transform(\"max\") - df_data[\"u_in\"]\n",
    "# df_data[\"u_in_diff_mean\"] = df_data.groupby(\"breath_id\")[\"u_in\"].transform(\"mean\") - df_data[\"u_in\"]\n",
    "\n",
    "# df_data[\"u_in_u_out\"] = df_data[\"u_in\"] * df_data[\"u_out\"]\n",
    "# df_data[\"u_out_timestep\"] = df_data[\"u_out\"] * df_data[\"time_step\"]\n",
    "\n",
    "# df_data['R'] = df_data['R'].astype(str)\n",
    "# df_data['C'] = df_data['C'].astype(str)\n",
    "# df_data['R__C'] = df_data[\"R\"].astype(str) + '__' + df_data[\"C\"].astype(str)\n",
    "# df_data = pd.get_dummies(df_data)\n",
    "\n",
    "# print(df_data.head())\n",
    "# print(df_data.iloc[75:85,:])\n"
   ]
  },
  {
   "cell_type": "code",
   "execution_count": 4,
   "id": "28d313d9",
   "metadata": {
    "execution": {
     "iopub.execute_input": "2021-10-18T14:54:46.785604Z",
     "iopub.status.busy": "2021-10-18T14:54:46.784843Z",
     "iopub.status.idle": "2021-10-18T14:54:46.789631Z",
     "shell.execute_reply": "2021-10-18T14:54:46.789111Z",
     "shell.execute_reply.started": "2021-10-18T14:50:48.747543Z"
    },
    "papermill": {
     "duration": 0.035094,
     "end_time": "2021-10-18T14:54:46.789797",
     "exception": false,
     "start_time": "2021-10-18T14:54:46.754703",
     "status": "completed"
    },
    "tags": []
   },
   "outputs": [],
   "source": [
    "def addFeatures(df_data):    \n",
    "    #df_data = df_data.iloc[0:240, :]\n",
    "    df_data[\"u_in_prev1\"] = df_data.groupby(\"breath_id\")[\"u_in\"].shift(1, fill_value=0)\n",
    "    df_data[\"u_in_prev2\"] = df_data.groupby(\"breath_id\")[\"u_in\"].shift(2, fill_value=0)\n",
    "    df_data[\"u_in_prev3\"] = df_data.groupby(\"breath_id\")[\"u_in\"].shift(3, fill_value=0)\n",
    "    df_data[\"u_in_next1\"] = df_data.groupby(\"breath_id\")[\"u_in\"].shift(-1, fill_value=0)\n",
    "    df_data[\"u_in_next2\"] = df_data.groupby(\"breath_id\")[\"u_in\"].shift(-2, fill_value=0)\n",
    "    df_data[\"u_in_next3\"] = df_data.groupby(\"breath_id\")[\"u_in\"].shift(-3, fill_value=0)\n",
    "    df_data[\"u_in_cumm\"] = df_data.groupby(\"breath_id\")[\"u_in\"].cumsum()\n",
    "    df_data[\"area\"] = df_data[\"time_step\"]*df_data[\"u_in\"]\n",
    "    df_data[\"area\"] = df_data.groupby(\"breath_id\")[\"area\"].cumsum()\n",
    "    df_data[\"u_in_diff1\"] = df_data[\"u_in\"] - df_data[\"u_in_prev1\"]\n",
    "    df_data[\"u_in_diff2\"] = df_data[\"u_in\"] - df_data[\"u_in_prev2\"]\n",
    "    df_data[\"u_in_diff3\"] = df_data[\"u_in\"] - df_data[\"u_in_prev3\"]\n",
    "\n",
    "    df_data[\"u_out_prev1\"] = df_data.groupby(\"breath_id\")[\"u_out\"].shift(1, fill_value=0)\n",
    "    df_data[\"u_out_prev2\"] = df_data.groupby(\"breath_id\")[\"u_out\"].shift(2, fill_value=0)\n",
    "    df_data[\"u_out_prev3\"] = df_data.groupby(\"breath_id\")[\"u_out\"].shift(3, fill_value=0)\n",
    "    df_data[\"u_out_next1\"] = df_data.groupby(\"breath_id\")[\"u_out\"].shift(-1, fill_value=0)\n",
    "    df_data[\"u_out_next2\"] = df_data.groupby(\"breath_id\")[\"u_out\"].shift(-2, fill_value=0)\n",
    "    df_data[\"u_out_next3\"] = df_data.groupby(\"breath_id\")[\"u_out\"].shift(-3, fill_value=0)\n",
    "    df_data[\"u_out_diff1\"] = df_data[\"u_out\"] - df_data[\"u_out_prev1\"]\n",
    "    df_data[\"u_out_diff2\"] = df_data[\"u_out\"] - df_data[\"u_out_prev2\"]\n",
    "    df_data[\"u_out_diff3\"] = df_data[\"u_out\"] - df_data[\"u_out_prev3\"]\n",
    "\n",
    "    df_data[\"u_in_diff_max\"] = df_data.groupby(\"breath_id\")[\"u_in\"].transform(\"max\") - df_data[\"u_in\"]\n",
    "    df_data[\"u_in_diff_mean\"] = df_data.groupby(\"breath_id\")[\"u_in\"].transform(\"mean\") - df_data[\"u_in\"]\n",
    "\n",
    "    df_data[\"u_in_u_out\"] = df_data[\"u_in\"] * df_data[\"u_out\"]\n",
    "    df_data[\"u_out_timestep\"] = df_data[\"u_out\"] * df_data[\"time_step\"]\n",
    "\n",
    "    df_data['R'] = df_data['R'].astype(str)\n",
    "    df_data['C'] = df_data['C'].astype(str)\n",
    "    df_data['R__C'] = df_data[\"R\"].astype(str) + '__' + df_data[\"C\"].astype(str)\n",
    "    df_data = pd.get_dummies(df_data)\n",
    "    \n",
    "    return df_data"
   ]
  },
  {
   "cell_type": "code",
   "execution_count": 5,
   "id": "66c70e2c",
   "metadata": {
    "execution": {
     "iopub.execute_input": "2021-10-18T14:54:46.816697Z",
     "iopub.status.busy": "2021-10-18T14:54:46.816050Z",
     "iopub.status.idle": "2021-10-18T14:59:27.446783Z",
     "shell.execute_reply": "2021-10-18T14:59:27.447320Z",
     "shell.execute_reply.started": "2021-10-18T14:50:52.763894Z"
    },
    "papermill": {
     "duration": 280.645864,
     "end_time": "2021-10-18T14:59:27.447523",
     "exception": false,
     "start_time": "2021-10-18T14:54:46.801659",
     "status": "completed"
    },
    "tags": []
   },
   "outputs": [
    {
     "name": "stdout",
     "output_type": "stream",
     "text": [
      "(6036000, 45)\n",
      "(4024000, 44)\n"
     ]
    }
   ],
   "source": [
    "##Added features for data and test\n",
    "df_data = addFeatures(df_data)\n",
    "df_test = addFeatures(df_test)\n",
    "print(df_data.shape)\n",
    "print(df_test.shape)"
   ]
  },
  {
   "cell_type": "code",
   "execution_count": 6,
   "id": "d7bfa0a7",
   "metadata": {
    "execution": {
     "iopub.execute_input": "2021-10-18T14:59:27.479080Z",
     "iopub.status.busy": "2021-10-18T14:59:27.478361Z",
     "iopub.status.idle": "2021-10-18T14:59:33.986017Z",
     "shell.execute_reply": "2021-10-18T14:59:33.985479Z",
     "shell.execute_reply.started": "2021-10-18T14:50:59.067268Z"
    },
    "papermill": {
     "duration": 6.526496,
     "end_time": "2021-10-18T14:59:33.986179",
     "exception": false,
     "start_time": "2021-10-18T14:59:27.459683",
     "status": "completed"
    },
    "tags": []
   },
   "outputs": [
    {
     "name": "stdout",
     "output_type": "stream",
     "text": [
      "data shape= (6036000, 42), Test shape= (4024000, 42)\n"
     ]
    }
   ],
   "source": [
    "##Shuffle the data and get the features similar for train and test\n",
    "df_data = df_data.sample(frac=1)\n",
    "df_y_data = df_data[\"pressure\"].copy()\n",
    "df_data = df_data.drop([\"id\", \"breath_id\", \"pressure\"], axis=1)\n",
    "\n",
    "df_test = df_test.drop([\"id\", \"breath_id\"], axis=1)\n",
    "print(\"data shape= %s, Test shape= %s\" %(df_data.shape, df_test.shape))"
   ]
  },
  {
   "cell_type": "code",
   "execution_count": 7,
   "id": "769cd350",
   "metadata": {
    "execution": {
     "iopub.execute_input": "2021-10-18T14:59:34.017947Z",
     "iopub.status.busy": "2021-10-18T14:59:34.017211Z",
     "iopub.status.idle": "2021-10-18T14:59:46.521643Z",
     "shell.execute_reply": "2021-10-18T14:59:46.520984Z",
     "shell.execute_reply.started": "2021-10-18T14:51:07.181110Z"
    },
    "papermill": {
     "duration": 12.522118,
     "end_time": "2021-10-18T14:59:46.521813",
     "exception": false,
     "start_time": "2021-10-18T14:59:33.999695",
     "status": "completed"
    },
    "tags": []
   },
   "outputs": [
    {
     "name": "stdout",
     "output_type": "stream",
     "text": [
      "[[ 8.49539496e-01  1.23978908e-01  0.00000000e+00  1.30897170e-01\n",
      "   1.49604370e-01  1.71568393e-01  1.27060415e-01  1.39034497e-01\n",
      "   1.56505118e-01 -1.71809269e-01  7.25702978e-01  3.73311057e-03\n",
      "   5.74646500e-03  5.38913779e-03  0.00000000e+00  0.00000000e+00\n",
      "   0.00000000e+00  0.00000000e+00  0.00000000e+00  0.00000000e+00\n",
      "   0.00000000e+00  0.00000000e+00  0.00000000e+00 -4.37269938e-01\n",
      "  -5.42666078e-01  1.10743958e+00  5.71662094e-01  1.00000000e+00\n",
      "   0.00000000e+00  0.00000000e+00  0.00000000e+00  0.00000000e+00\n",
      "   1.00000000e+00  0.00000000e+00  0.00000000e+00  1.00000000e+00\n",
      "   0.00000000e+00  0.00000000e+00  0.00000000e+00  0.00000000e+00\n",
      "   0.00000000e+00  0.00000000e+00]\n",
      " [-9.12645320e-01  1.19168704e+01 -1.00000000e+00  1.75780689e+01\n",
      "   1.92482221e+01  7.77138501e+00  8.44291715e+00  5.81602126e+00\n",
      "   3.55079007e+00  4.72898017e-02 -4.52659547e-01 -2.02316592e+02\n",
      "  -1.30936925e+02  3.39013914e+01 -1.00000000e+00 -1.00000000e+00\n",
      "  -1.00000000e+00 -1.00000000e+00 -1.00000000e+00 -1.00000000e+00\n",
      "   0.00000000e+00  0.00000000e+00  0.00000000e+00  6.77201901e-01\n",
      "  -7.97215193e+00  0.00000000e+00 -6.65541311e-01  0.00000000e+00\n",
      "   1.00000000e+00  0.00000000e+00  1.00000000e+00  0.00000000e+00\n",
      "   0.00000000e+00  0.00000000e+00  0.00000000e+00  0.00000000e+00\n",
      "   0.00000000e+00  0.00000000e+00  0.00000000e+00  1.00000000e+00\n",
      "   0.00000000e+00  0.00000000e+00]\n",
      " [-2.64899063e-03 -9.55539088e-01  0.00000000e+00 -8.64120606e-01\n",
      "  -8.42526591e-01 -8.19257888e-01 -8.94470278e-01 -8.59151532e-01\n",
      "  -8.43529502e-01  4.59387457e+00  2.52941330e+00 -4.55129464e-02\n",
      "  -4.86101177e-02 -5.18813481e-02  0.00000000e+00  0.00000000e+00\n",
      "   0.00000000e+00  0.00000000e+00  0.00000000e+00  0.00000000e+00\n",
      "   0.00000000e+00  0.00000000e+00  0.00000000e+00  2.30899868e+00\n",
      "   3.77833464e+00  0.00000000e+00 -1.78252752e-03  0.00000000e+00\n",
      "   1.00000000e+00  0.00000000e+00  0.00000000e+00  1.00000000e+00\n",
      "   0.00000000e+00  0.00000000e+00  0.00000000e+00  0.00000000e+00\n",
      "   0.00000000e+00  0.00000000e+00  0.00000000e+00  0.00000000e+00\n",
      "   1.00000000e+00  0.00000000e+00]\n",
      " [ 7.15050809e-01  1.10737062e-01  0.00000000e+00  1.16612722e-01\n",
      "   1.32870832e-01  1.51950726e-01  1.16383569e-01  1.30150807e-01\n",
      "   1.48926995e-01  1.37991199e+00  1.40534177e+00  6.72528457e-02\n",
      "   7.77499648e-02  8.17050605e-02  0.00000000e+00  0.00000000e+00\n",
      "   0.00000000e+00  0.00000000e+00  0.00000000e+00  0.00000000e+00\n",
      "   0.00000000e+00  0.00000000e+00  0.00000000e+00  2.01082881e+00\n",
      "   6.08953223e-01  1.09385523e+00  4.81163554e-01  0.00000000e+00\n",
      "   0.00000000e+00  1.00000000e+00  0.00000000e+00  0.00000000e+00\n",
      "   1.00000000e+00  0.00000000e+00  0.00000000e+00  0.00000000e+00\n",
      "   0.00000000e+00  0.00000000e+00  1.00000000e+00  0.00000000e+00\n",
      "   0.00000000e+00  0.00000000e+00]\n",
      " [-8.34896229e-03 -9.55539088e-01  0.00000000e+00 -8.64120606e-01\n",
      "  -8.42526591e-01 -8.19257888e-01 -8.94470278e-01 -8.59151532e-01\n",
      "  -8.43529502e-01 -2.60825089e-01 -3.69120590e-01 -4.55129464e-02\n",
      "  -4.86101177e-02 -5.18813481e-02  0.00000000e+00  0.00000000e+00\n",
      "   0.00000000e+00  0.00000000e+00  0.00000000e+00  0.00000000e+00\n",
      "   0.00000000e+00  0.00000000e+00  0.00000000e+00  8.90083680e-01\n",
      "   3.46675951e-01  0.00000000e+00 -5.61808520e-03  0.00000000e+00\n",
      "   0.00000000e+00  1.00000000e+00  1.00000000e+00  0.00000000e+00\n",
      "   0.00000000e+00  0.00000000e+00  0.00000000e+00  0.00000000e+00\n",
      "   1.00000000e+00  0.00000000e+00  0.00000000e+00  0.00000000e+00\n",
      "   0.00000000e+00  0.00000000e+00]]\n",
      "[[-9.89052161e-01 -9.55539088e-01 -1.00000000e+00 -8.64120606e-01\n",
      "  -8.42526591e-01 -8.19257888e-01  6.52717877e-01  2.08506207e+00\n",
      "   3.42649611e+00 -7.25447190e-01 -5.16580501e-01 -4.55129464e-02\n",
      "  -4.86101177e-02 -5.18813481e-02 -1.00000000e+00 -1.00000000e+00\n",
      "  -1.00000000e+00 -1.00000000e+00 -1.00000000e+00 -1.00000000e+00\n",
      "   0.00000000e+00  0.00000000e+00  0.00000000e+00  5.84121773e-01\n",
      "   1.16440261e+00  0.00000000e+00 -6.65541311e-01  0.00000000e+00\n",
      "   1.00000000e+00  0.00000000e+00  0.00000000e+00  1.00000000e+00\n",
      "   0.00000000e+00  0.00000000e+00  0.00000000e+00  0.00000000e+00\n",
      "   0.00000000e+00  0.00000000e+00  0.00000000e+00  0.00000000e+00\n",
      "   1.00000000e+00  0.00000000e+00]\n",
      " [-9.64930212e-01  6.81642864e-01 -1.00000000e+00 -8.64120606e-01\n",
      "  -8.42526591e-01 -8.19257888e-01  2.12199828e+00  3.40708076e+00\n",
      "   4.45029656e+00 -7.05661771e-01 -5.15592367e-01  4.65703970e+01\n",
      "   2.39936276e+01  1.55410513e+01 -1.00000000e+00 -1.00000000e+00\n",
      "  -1.00000000e+00 -1.00000000e+00 -1.00000000e+00 -1.00000000e+00\n",
      "   0.00000000e+00  0.00000000e+00  0.00000000e+00  3.76581122e-01\n",
      "   4.57237229e-02  0.00000000e+00 -6.65541311e-01  0.00000000e+00\n",
      "   1.00000000e+00  0.00000000e+00  0.00000000e+00  1.00000000e+00\n",
      "   0.00000000e+00  0.00000000e+00  0.00000000e+00  0.00000000e+00\n",
      "   0.00000000e+00  0.00000000e+00  0.00000000e+00  0.00000000e+00\n",
      "   1.00000000e+00  0.00000000e+00]\n",
      " [-9.40793302e-01  2.23638548e+00 -1.00000000e+00  6.47331069e-01\n",
      "  -8.42526591e-01 -8.19257888e-01  3.47646108e+00  4.42997171e+00\n",
      "   5.28818336e+00 -6.67087216e-01 -5.11738148e-01  4.42230801e+01\n",
      "   4.68252325e+01  3.03488109e+01 -1.00000000e+00 -1.00000000e+00\n",
      "  -1.00000000e+00 -1.00000000e+00 -1.00000000e+00 -1.00000000e+00\n",
      "   0.00000000e+00  0.00000000e+00  0.00000000e+00  1.79491059e-01\n",
      "  -1.01662475e+00  0.00000000e+00 -6.65541311e-01  0.00000000e+00\n",
      "   1.00000000e+00  0.00000000e+00  0.00000000e+00  1.00000000e+00\n",
      "   0.00000000e+00  0.00000000e+00  0.00000000e+00  0.00000000e+00\n",
      "   0.00000000e+00  0.00000000e+00  0.00000000e+00  0.00000000e+00\n",
      "   1.00000000e+00  0.00000000e+00]\n",
      " [-9.16656211e-01  3.66963201e+00 -1.00000000e+00  2.08267448e+00\n",
      "   6.67302329e-01 -8.19257888e-01  4.52445515e+00  5.26711416e+00\n",
      "   5.90342992e+00 -6.11191812e-01 -5.03359986e-01  4.07636905e+01\n",
      "   4.38304134e+01  4.39994112e+01 -1.00000000e+00 -1.00000000e+00\n",
      "  -1.00000000e+00 -1.00000000e+00 -1.00000000e+00 -1.00000000e+00\n",
      "   0.00000000e+00  0.00000000e+00  0.00000000e+00 -2.19731022e-03\n",
      "  -1.99595550e+00  0.00000000e+00 -6.65541311e-01  0.00000000e+00\n",
      "   1.00000000e+00  0.00000000e+00  0.00000000e+00  1.00000000e+00\n",
      "   0.00000000e+00  0.00000000e+00  0.00000000e+00  0.00000000e+00\n",
      "   0.00000000e+00  0.00000000e+00  0.00000000e+00  0.00000000e+00\n",
      "   1.00000000e+00  0.00000000e+00]\n",
      " [-8.92542735e-01  4.77858373e+00 -1.00000000e+00  3.40585232e+00\n",
      "   2.10110470e+00  6.91832508e-01  5.38214220e+00  5.88181417e+00\n",
      "   6.34020495e+00 -5.41894674e-01 -4.89513377e-01  3.15299595e+01\n",
      "   3.72839141e+01  3.89684137e+01 -1.00000000e+00 -1.00000000e+00\n",
      "  -1.00000000e+00 -1.00000000e+00 -1.00000000e+00 -1.00000000e+00\n",
      "   0.00000000e+00  0.00000000e+00  0.00000000e+00 -1.42775798e-01\n",
      "  -2.75369711e+00  0.00000000e+00 -6.65541311e-01  0.00000000e+00\n",
      "   1.00000000e+00  0.00000000e+00  0.00000000e+00  1.00000000e+00\n",
      "   0.00000000e+00  0.00000000e+00  0.00000000e+00  0.00000000e+00\n",
      "   0.00000000e+00  0.00000000e+00  0.00000000e+00  0.00000000e+00\n",
      "   1.00000000e+00  0.00000000e+00]]\n"
     ]
    }
   ],
   "source": [
    "##Normalize the data\n",
    "from sklearn.preprocessing import RobustScaler, normalize\n",
    "RS = RobustScaler()\n",
    "train = RS.fit_transform(df_data)\n",
    "test = RS.transform(df_test)\n",
    "print(train[0:5,:])\n",
    "print(test[0:5,:])"
   ]
  },
  {
   "cell_type": "code",
   "execution_count": 8,
   "id": "996b50d6",
   "metadata": {
    "execution": {
     "iopub.execute_input": "2021-10-18T14:59:46.554558Z",
     "iopub.status.busy": "2021-10-18T14:59:46.553668Z",
     "iopub.status.idle": "2021-10-18T14:59:50.317642Z",
     "shell.execute_reply": "2021-10-18T14:59:50.318131Z",
     "shell.execute_reply.started": "2021-10-18T14:52:04.947843Z"
    },
    "papermill": {
     "duration": 3.783114,
     "end_time": "2021-10-18T14:59:50.318311",
     "exception": false,
     "start_time": "2021-10-18T14:59:46.535197",
     "status": "completed"
    },
    "tags": []
   },
   "outputs": [
    {
     "name": "stdout",
     "output_type": "stream",
     "text": [
      "data shape= (6036000, 42), train size= (4828800, 42), dev size = (1207200, 42)\n",
      "\n"
     ]
    }
   ],
   "source": [
    "##Shuffle df_data and then get df_y_train and df_x_train\n",
    "from sklearn.model_selection import train_test_split\n",
    "\n",
    "## Remove random_state if we want variable train and dev sizes\n",
    "#x_train, x_dev = train_test_split(train, train_size=0.8, random_state=9)\n",
    "x_train, x_dev, y_train, y_dev = train_test_split(df_data, df_y_data, train_size=0.8)\n",
    "\n",
    "print(\"data shape= %s, train size= %s, dev size = %s\\n\" %(df_data.shape, x_train.shape, x_dev.shape))"
   ]
  },
  {
   "cell_type": "code",
   "execution_count": 9,
   "id": "f2722256",
   "metadata": {
    "execution": {
     "iopub.execute_input": "2021-10-18T14:59:50.348852Z",
     "iopub.status.busy": "2021-10-18T14:59:50.348187Z",
     "iopub.status.idle": "2021-10-18T14:59:50.501958Z",
     "shell.execute_reply": "2021-10-18T14:59:50.502417Z",
     "shell.execute_reply.started": "2021-10-18T14:52:12.512501Z"
    },
    "papermill": {
     "duration": 0.170967,
     "end_time": "2021-10-18T14:59:50.502605",
     "exception": false,
     "start_time": "2021-10-18T14:59:50.331638",
     "status": "completed"
    },
    "tags": []
   },
   "outputs": [
    {
     "name": "stdout",
     "output_type": "stream",
     "text": [
      "Model: \"sequential\"\n",
      "_________________________________________________________________\n",
      "Layer (type)                 Output Shape              Param #   \n",
      "=================================================================\n",
      "dense (Dense)                (None, 256)               11008     \n",
      "_________________________________________________________________\n",
      "dense_1 (Dense)              (None, 512)               131584    \n",
      "_________________________________________________________________\n",
      "dense_2 (Dense)              (None, 512)               262656    \n",
      "_________________________________________________________________\n",
      "dense_3 (Dense)              (None, 64)                32832     \n",
      "_________________________________________________________________\n",
      "dense_4 (Dense)              (None, 1)                 65        \n",
      "=================================================================\n",
      "Total params: 438,145\n",
      "Trainable params: 438,145\n",
      "Non-trainable params: 0\n",
      "_________________________________________________________________\n"
     ]
    },
    {
     "name": "stderr",
     "output_type": "stream",
     "text": [
      "\n",
      "User settings:\n",
      "\n",
      "   KMP_AFFINITY=granularity=fine,verbose,compact,1,0\n",
      "   KMP_BLOCKTIME=0\n",
      "   KMP_DUPLICATE_LIB_OK=True\n",
      "   KMP_INIT_AT_FORK=FALSE\n",
      "   KMP_SETTINGS=1\n",
      "   KMP_WARNINGS=0\n",
      "\n",
      "Effective settings:\n",
      "\n",
      "   KMP_ABORT_DELAY=0\n",
      "   KMP_ADAPTIVE_LOCK_PROPS='1,1024'\n",
      "   KMP_ALIGN_ALLOC=64\n",
      "   KMP_ALL_THREADPRIVATE=128\n",
      "   KMP_ATOMIC_MODE=2\n",
      "   KMP_BLOCKTIME=0\n",
      "   KMP_CPUINFO_FILE: value is not defined\n",
      "   KMP_DETERMINISTIC_REDUCTION=false\n",
      "   KMP_DEVICE_THREAD_LIMIT=2147483647\n",
      "   KMP_DISP_NUM_BUFFERS=7\n",
      "   KMP_DUPLICATE_LIB_OK=true\n",
      "   KMP_ENABLE_TASK_THROTTLING=true\n",
      "   KMP_FORCE_REDUCTION: value is not defined\n",
      "   KMP_FOREIGN_THREADS_THREADPRIVATE=true\n",
      "   KMP_FORKJOIN_BARRIER='2,2'\n",
      "   KMP_FORKJOIN_BARRIER_PATTERN='hyper,hyper'\n",
      "   KMP_GTID_MODE=3\n",
      "   KMP_HANDLE_SIGNALS=false\n",
      "   KMP_HOT_TEAMS_MAX_LEVEL=1\n",
      "   KMP_HOT_TEAMS_MODE=0\n",
      "   KMP_INIT_AT_FORK=true\n",
      "   KMP_LIBRARY=throughput\n",
      "   KMP_LOCK_KIND=queuing\n",
      "   KMP_MALLOC_POOL_INCR=1M\n",
      "   KMP_NUM_LOCKS_IN_BLOCK=1\n",
      "   KMP_PLAIN_BARRIER='2,2'\n",
      "   KMP_PLAIN_BARRIER_PATTERN='hyper,hyper'\n",
      "   KMP_REDUCTION_BARRIER='1,1'\n",
      "   KMP_REDUCTION_BARRIER_PATTERN='hyper,hyper'\n",
      "   KMP_SCHEDULE='static,balanced;guided,iterative'\n",
      "   KMP_SETTINGS=true\n",
      "   KMP_SPIN_BACKOFF_PARAMS='4096,100'\n",
      "   KMP_STACKOFFSET=64\n",
      "   KMP_STACKPAD=0\n",
      "   KMP_STACKSIZE=8M\n",
      "   KMP_STORAGE_MAP=false\n",
      "   KMP_TASKING=2\n",
      "   KMP_TASKLOOP_MIN_TASKS=0\n",
      "   KMP_TASK_STEALING_CONSTRAINT=1\n",
      "   KMP_TEAMS_THREAD_LIMIT=4\n",
      "   KMP_TOPOLOGY_METHOD=all\n",
      "   KMP_USE_YIELD=1\n",
      "   KMP_VERSION=false\n",
      "   KMP_WARNINGS=false\n",
      "   OMP_AFFINITY_FORMAT='OMP: pid %P tid %i thread %n bound to OS proc set {%A}'\n",
      "   OMP_ALLOCATOR=omp_default_mem_alloc\n",
      "   OMP_CANCELLATION=false\n",
      "   OMP_DEFAULT_DEVICE=0\n",
      "   OMP_DISPLAY_AFFINITY=false\n",
      "   OMP_DISPLAY_ENV=false\n",
      "   OMP_DYNAMIC=false\n",
      "   OMP_MAX_ACTIVE_LEVELS=1\n",
      "   OMP_MAX_TASK_PRIORITY=0\n",
      "   OMP_NESTED: deprecated; max-active-levels-var=1\n",
      "   OMP_NUM_THREADS: value is not defined\n",
      "   OMP_PLACES: value is not defined\n",
      "   OMP_PROC_BIND='intel'\n",
      "   OMP_SCHEDULE='static'\n",
      "   OMP_STACKSIZE=8M\n",
      "   OMP_TARGET_OFFLOAD=DEFAULT\n",
      "   OMP_THREAD_LIMIT=2147483647\n",
      "   OMP_WAIT_POLICY=PASSIVE\n",
      "   KMP_AFFINITY='verbose,warnings,respect,granularity=fine,compact,1,0'\n",
      "\n",
      "2021-10-18 14:59:50.399495: I tensorflow/core/common_runtime/process_util.cc:146] Creating new thread pool with default inter op setting: 2. Tune using inter_op_parallelism_threads for best performance.\n"
     ]
    }
   ],
   "source": [
    "##Create FNN for training\n",
    "import tensorflow as tf\n",
    "from tensorflow.keras.models import Sequential, load_model\n",
    "from tensorflow.keras.layers import Dense, Activation, Dropout\n",
    "from tensorflow.keras.callbacks import CSVLogger, TensorBoard, ModelCheckpoint, EarlyStopping\n",
    "\n",
    "##Clear models\n",
    "tf.keras.backend.clear_session()\n",
    "\n",
    "model = Sequential()\n",
    "model.add(tf.keras.Input(shape=(42,)))\n",
    "model.add(Dense(256,activation='relu'))\n",
    "#model.add(Dropout(0.2))\n",
    "model.add(Dense(512, activation='relu'))\n",
    "#model.add(Dropout(0.2))\n",
    "model.add(Dense(512, activation='relu'))\n",
    "model.add(Dense(64, activation='relu'))\n",
    "model.add(Dense(1, activation='linear'))\n",
    "\n",
    "model.summary()"
   ]
  },
  {
   "cell_type": "code",
   "execution_count": 10,
   "id": "49f89859",
   "metadata": {
    "execution": {
     "iopub.execute_input": "2021-10-18T14:59:50.535068Z",
     "iopub.status.busy": "2021-10-18T14:59:50.534119Z",
     "iopub.status.idle": "2021-10-18T17:47:38.645348Z",
     "shell.execute_reply": "2021-10-18T17:47:38.645874Z",
     "shell.execute_reply.started": "2021-10-18T14:52:33.632128Z"
    },
    "papermill": {
     "duration": 10068.129426,
     "end_time": "2021-10-18T17:47:38.646086",
     "exception": false,
     "start_time": "2021-10-18T14:59:50.516660",
     "status": "completed"
    },
    "tags": []
   },
   "outputs": [
    {
     "name": "stderr",
     "output_type": "stream",
     "text": [
      "2021-10-18 14:59:53.880803: I tensorflow/compiler/mlir/mlir_graph_optimization_pass.cc:185] None of the MLIR Optimization Passes are enabled (registered 2)\n"
     ]
    },
    {
     "name": "stdout",
     "output_type": "stream",
     "text": [
      "Epoch 1/100\n",
      "4716/4716 [==============================] - 167s 35ms/step - loss: 8.2080 - mean_absolute_error: 1.3267 - val_loss: 1.9629 - val_mean_absolute_error: 0.8676\n",
      "Epoch 2/100\n",
      "4716/4716 [==============================] - 167s 35ms/step - loss: 1.6786 - mean_absolute_error: 0.7975 - val_loss: 1.2881 - val_mean_absolute_error: 0.6884\n",
      "Epoch 3/100\n",
      "4716/4716 [==============================] - 168s 36ms/step - loss: 1.3062 - mean_absolute_error: 0.6990 - val_loss: 1.1836 - val_mean_absolute_error: 0.6535\n",
      "Epoch 4/100\n",
      "4716/4716 [==============================] - 168s 36ms/step - loss: 1.1069 - mean_absolute_error: 0.6405 - val_loss: 0.9818 - val_mean_absolute_error: 0.5991\n",
      "Epoch 5/100\n",
      "4716/4716 [==============================] - 169s 36ms/step - loss: 0.9916 - mean_absolute_error: 0.6042 - val_loss: 1.0375 - val_mean_absolute_error: 0.6099\n",
      "Epoch 6/100\n",
      "4716/4716 [==============================] - 168s 36ms/step - loss: 0.9175 - mean_absolute_error: 0.5805 - val_loss: 0.8788 - val_mean_absolute_error: 0.5713\n",
      "Epoch 7/100\n",
      "4716/4716 [==============================] - 172s 37ms/step - loss: 0.8662 - mean_absolute_error: 0.5639 - val_loss: 0.8384 - val_mean_absolute_error: 0.5562\n",
      "Epoch 8/100\n",
      "4716/4716 [==============================] - 169s 36ms/step - loss: 0.8175 - mean_absolute_error: 0.5475 - val_loss: 0.7867 - val_mean_absolute_error: 0.5340\n",
      "Epoch 9/100\n",
      "4716/4716 [==============================] - 172s 37ms/step - loss: 0.7876 - mean_absolute_error: 0.5378 - val_loss: 0.7249 - val_mean_absolute_error: 0.5150\n",
      "Epoch 10/100\n",
      "4716/4716 [==============================] - 168s 36ms/step - loss: 0.7566 - mean_absolute_error: 0.5271 - val_loss: 0.7675 - val_mean_absolute_error: 0.5363\n",
      "Epoch 11/100\n",
      "4716/4716 [==============================] - 167s 35ms/step - loss: 0.7320 - mean_absolute_error: 0.5187 - val_loss: 0.7365 - val_mean_absolute_error: 0.5200\n",
      "Epoch 12/100\n",
      "4716/4716 [==============================] - 175s 37ms/step - loss: 0.7118 - mean_absolute_error: 0.5119 - val_loss: 0.7001 - val_mean_absolute_error: 0.5132\n",
      "Epoch 13/100\n",
      "4716/4716 [==============================] - 169s 36ms/step - loss: 0.6968 - mean_absolute_error: 0.5068 - val_loss: 0.6836 - val_mean_absolute_error: 0.5083\n",
      "Epoch 14/100\n",
      "4716/4716 [==============================] - 170s 36ms/step - loss: 0.6768 - mean_absolute_error: 0.4997 - val_loss: 0.6873 - val_mean_absolute_error: 0.5017\n",
      "Epoch 15/100\n",
      "4716/4716 [==============================] - 170s 36ms/step - loss: 0.6615 - mean_absolute_error: 0.4949 - val_loss: 0.6820 - val_mean_absolute_error: 0.4974\n",
      "Epoch 16/100\n",
      "4716/4716 [==============================] - 170s 36ms/step - loss: 0.6492 - mean_absolute_error: 0.4902 - val_loss: 0.6786 - val_mean_absolute_error: 0.5053\n",
      "Epoch 17/100\n",
      "4716/4716 [==============================] - 171s 36ms/step - loss: 0.6364 - mean_absolute_error: 0.4858 - val_loss: 0.6720 - val_mean_absolute_error: 0.4914\n",
      "Epoch 18/100\n",
      "4716/4716 [==============================] - 172s 36ms/step - loss: 0.6247 - mean_absolute_error: 0.4816 - val_loss: 0.6551 - val_mean_absolute_error: 0.4854\n",
      "Epoch 19/100\n",
      "4716/4716 [==============================] - 163s 34ms/step - loss: 0.6130 - mean_absolute_error: 0.4771 - val_loss: 0.6085 - val_mean_absolute_error: 0.4732\n",
      "Epoch 20/100\n",
      "4716/4716 [==============================] - 173s 37ms/step - loss: 0.6020 - mean_absolute_error: 0.4730 - val_loss: 0.6660 - val_mean_absolute_error: 0.4961\n",
      "Epoch 21/100\n",
      "4716/4716 [==============================] - 162s 34ms/step - loss: 0.5934 - mean_absolute_error: 0.4703 - val_loss: 0.5731 - val_mean_absolute_error: 0.4647\n",
      "Epoch 22/100\n",
      "4716/4716 [==============================] - 173s 37ms/step - loss: 0.5841 - mean_absolute_error: 0.4668 - val_loss: 0.5944 - val_mean_absolute_error: 0.4683\n",
      "Epoch 23/100\n",
      "4716/4716 [==============================] - 175s 37ms/step - loss: 0.5766 - mean_absolute_error: 0.4635 - val_loss: 0.5628 - val_mean_absolute_error: 0.4551\n",
      "Epoch 24/100\n",
      "4716/4716 [==============================] - 160s 34ms/step - loss: 0.5717 - mean_absolute_error: 0.4617 - val_loss: 0.5992 - val_mean_absolute_error: 0.4674\n",
      "Epoch 25/100\n",
      "4716/4716 [==============================] - 174s 37ms/step - loss: 0.5621 - mean_absolute_error: 0.4583 - val_loss: 0.5555 - val_mean_absolute_error: 0.4507\n",
      "Epoch 26/100\n",
      "4716/4716 [==============================] - 161s 34ms/step - loss: 0.5597 - mean_absolute_error: 0.4568 - val_loss: 0.6087 - val_mean_absolute_error: 0.4700\n",
      "Epoch 27/100\n",
      "4716/4716 [==============================] - 176s 37ms/step - loss: 0.5454 - mean_absolute_error: 0.4514 - val_loss: 0.5719 - val_mean_absolute_error: 0.4661\n",
      "Epoch 28/100\n",
      "4716/4716 [==============================] - 179s 38ms/step - loss: 0.5429 - mean_absolute_error: 0.4504 - val_loss: 0.5404 - val_mean_absolute_error: 0.4420\n",
      "Epoch 29/100\n",
      "4716/4716 [==============================] - 160s 34ms/step - loss: 0.5368 - mean_absolute_error: 0.4478 - val_loss: 0.5498 - val_mean_absolute_error: 0.4495\n",
      "Epoch 30/100\n",
      "4716/4716 [==============================] - 179s 38ms/step - loss: 0.5273 - mean_absolute_error: 0.4450 - val_loss: 0.5283 - val_mean_absolute_error: 0.4405\n",
      "Epoch 31/100\n",
      "4716/4716 [==============================] - 162s 34ms/step - loss: 0.5268 - mean_absolute_error: 0.4441 - val_loss: 0.5736 - val_mean_absolute_error: 0.4594\n",
      "Epoch 32/100\n",
      "4716/4716 [==============================] - 180s 38ms/step - loss: 0.5193 - mean_absolute_error: 0.4411 - val_loss: 0.5978 - val_mean_absolute_error: 0.4644\n",
      "Epoch 33/100\n",
      "4716/4716 [==============================] - 173s 37ms/step - loss: 0.5167 - mean_absolute_error: 0.4405 - val_loss: 0.5092 - val_mean_absolute_error: 0.4325\n",
      "Epoch 34/100\n",
      "4716/4716 [==============================] - 172s 36ms/step - loss: 0.5103 - mean_absolute_error: 0.4378 - val_loss: 0.5400 - val_mean_absolute_error: 0.4454\n",
      "Epoch 35/100\n",
      "4716/4716 [==============================] - 182s 39ms/step - loss: 0.5073 - mean_absolute_error: 0.4365 - val_loss: 0.5139 - val_mean_absolute_error: 0.4307\n",
      "Epoch 36/100\n",
      "4716/4716 [==============================] - 164s 35ms/step - loss: 0.5008 - mean_absolute_error: 0.4344 - val_loss: 0.5134 - val_mean_absolute_error: 0.4327\n",
      "Epoch 37/100\n",
      "4716/4716 [==============================] - 162s 34ms/step - loss: 0.4945 - mean_absolute_error: 0.4320 - val_loss: 0.4888 - val_mean_absolute_error: 0.4251\n",
      "Epoch 38/100\n",
      "4716/4716 [==============================] - 179s 38ms/step - loss: 0.4939 - mean_absolute_error: 0.4313 - val_loss: 0.6157 - val_mean_absolute_error: 0.4839\n",
      "Epoch 39/100\n",
      "4716/4716 [==============================] - 169s 36ms/step - loss: 0.4904 - mean_absolute_error: 0.4300 - val_loss: 0.4901 - val_mean_absolute_error: 0.4241\n",
      "Epoch 40/100\n",
      "4716/4716 [==============================] - 162s 34ms/step - loss: 0.4841 - mean_absolute_error: 0.4278 - val_loss: 0.4920 - val_mean_absolute_error: 0.4242\n",
      "Epoch 41/100\n",
      "4716/4716 [==============================] - 162s 34ms/step - loss: 0.4815 - mean_absolute_error: 0.4268 - val_loss: 0.4868 - val_mean_absolute_error: 0.4242\n",
      "Epoch 42/100\n",
      "4716/4716 [==============================] - 187s 40ms/step - loss: 0.4785 - mean_absolute_error: 0.4257 - val_loss: 0.4796 - val_mean_absolute_error: 0.4215\n",
      "Epoch 43/100\n",
      "4716/4716 [==============================] - 163s 35ms/step - loss: 0.4775 - mean_absolute_error: 0.4252 - val_loss: 0.4800 - val_mean_absolute_error: 0.4229\n",
      "Epoch 44/100\n",
      "4716/4716 [==============================] - 164s 35ms/step - loss: 0.4710 - mean_absolute_error: 0.4225 - val_loss: 0.4802 - val_mean_absolute_error: 0.4188\n",
      "Epoch 45/100\n",
      "4716/4716 [==============================] - 190s 40ms/step - loss: 0.4685 - mean_absolute_error: 0.4216 - val_loss: 0.4848 - val_mean_absolute_error: 0.4227\n",
      "Epoch 46/100\n",
      "4716/4716 [==============================] - 162s 34ms/step - loss: 0.4660 - mean_absolute_error: 0.4209 - val_loss: 0.5065 - val_mean_absolute_error: 0.4281\n",
      "Epoch 47/100\n",
      "4716/4716 [==============================] - 163s 35ms/step - loss: 0.4660 - mean_absolute_error: 0.4205 - val_loss: 0.4783 - val_mean_absolute_error: 0.4215\n",
      "Epoch 48/100\n",
      "4716/4716 [==============================] - 191s 40ms/step - loss: 0.4615 - mean_absolute_error: 0.4180 - val_loss: 0.5239 - val_mean_absolute_error: 0.4456\n",
      "Epoch 49/100\n",
      "4716/4716 [==============================] - 164s 35ms/step - loss: 0.4601 - mean_absolute_error: 0.4181 - val_loss: 0.5225 - val_mean_absolute_error: 0.4395\n",
      "Epoch 50/100\n",
      "4716/4716 [==============================] - 162s 34ms/step - loss: 0.4572 - mean_absolute_error: 0.4172 - val_loss: 0.5073 - val_mean_absolute_error: 0.4331\n",
      "Epoch 51/100\n",
      "4716/4716 [==============================] - 162s 34ms/step - loss: 0.4542 - mean_absolute_error: 0.4162 - val_loss: 0.5019 - val_mean_absolute_error: 0.4309\n",
      "Epoch 52/100\n",
      "4716/4716 [==============================] - 193s 41ms/step - loss: 0.4529 - mean_absolute_error: 0.4151 - val_loss: 0.4589 - val_mean_absolute_error: 0.4139\n",
      "Epoch 53/100\n",
      "4716/4716 [==============================] - 163s 35ms/step - loss: 0.4507 - mean_absolute_error: 0.4142 - val_loss: 0.5207 - val_mean_absolute_error: 0.4395\n",
      "Epoch 54/100\n",
      "4716/4716 [==============================] - 162s 34ms/step - loss: 0.4453 - mean_absolute_error: 0.4123 - val_loss: 0.4587 - val_mean_absolute_error: 0.4147\n",
      "Epoch 55/100\n",
      "4716/4716 [==============================] - 195s 41ms/step - loss: 0.4439 - mean_absolute_error: 0.4116 - val_loss: 0.4834 - val_mean_absolute_error: 0.4206\n",
      "Epoch 56/100\n",
      "4716/4716 [==============================] - 164s 35ms/step - loss: 0.4399 - mean_absolute_error: 0.4101 - val_loss: 0.4928 - val_mean_absolute_error: 0.4315\n",
      "Epoch 57/100\n",
      "4716/4716 [==============================] - 162s 34ms/step - loss: 0.4400 - mean_absolute_error: 0.4104 - val_loss: 0.4647 - val_mean_absolute_error: 0.4185\n",
      "Epoch 58/100\n",
      "4716/4716 [==============================] - 186s 39ms/step - loss: 0.4385 - mean_absolute_error: 0.4098 - val_loss: 0.4859 - val_mean_absolute_error: 0.4192\n",
      "Epoch 59/100\n",
      "4716/4716 [==============================] - 176s 37ms/step - loss: 0.4328 - mean_absolute_error: 0.4075 - val_loss: 0.4885 - val_mean_absolute_error: 0.4230\n",
      "Restoring model weights from the end of the best epoch.\n",
      "Epoch 00059: early stopping\n"
     ]
    }
   ],
   "source": [
    "earlystop = tf.keras.callbacks.EarlyStopping(monitor='val_loss', patience=5, restore_best_weights=True,\\\n",
    "                                             verbose=1)\n",
    "\n",
    "##Fit model\n",
    "model.compile(optimizer='adam', loss='mean_squared_error', metrics=[tf.keras.metrics.MeanAbsoluteError()])\n",
    "\n",
    "##Train the model\n",
    "history = model.fit(x=x_train, y=y_train, batch_size=1024, epochs=100, validation_data=(x_dev, y_dev),\\\n",
    "                   callbacks=[earlystop])"
   ]
  },
  {
   "cell_type": "code",
   "execution_count": 11,
   "id": "d7c14292",
   "metadata": {
    "execution": {
     "iopub.execute_input": "2021-10-18T17:49:07.825395Z",
     "iopub.status.busy": "2021-10-18T17:49:07.823675Z",
     "iopub.status.idle": "2021-10-18T17:49:20.530335Z",
     "shell.execute_reply": "2021-10-18T17:49:20.530917Z",
     "shell.execute_reply.started": "2021-10-18T14:53:06.143011Z"
    },
    "papermill": {
     "duration": 57.252302,
     "end_time": "2021-10-18T17:49:20.531109",
     "exception": false,
     "start_time": "2021-10-18T17:48:23.278807",
     "status": "completed"
    },
    "tags": []
   },
   "outputs": [
    {
     "name": "stdout",
     "output_type": "stream",
     "text": [
      "118/118 [==============================] - 10s 81ms/step - loss: 0.4587 - mean_absolute_error: 0.4147\n"
     ]
    },
    {
     "data": {
      "text/plain": [
       "[0.45874926447868347, 0.41471993923187256]"
      ]
     },
     "execution_count": 11,
     "metadata": {},
     "output_type": "execute_result"
    }
   ],
   "source": [
    "model.save(\"./ventilator_extraFeatures_fnn1.h5\")\n",
    "##Evaluate model on dev set\n",
    "score = model.evaluate(x_dev, y_dev, batch_size=10240)\n",
    "score"
   ]
  },
  {
   "cell_type": "code",
   "execution_count": 12,
   "id": "95778a93",
   "metadata": {
    "execution": {
     "iopub.execute_input": "2021-10-18T17:50:49.259679Z",
     "iopub.status.busy": "2021-10-18T17:50:49.258870Z",
     "iopub.status.idle": "2021-10-18T17:51:43.344137Z",
     "shell.execute_reply": "2021-10-18T17:51:43.344705Z",
     "shell.execute_reply.started": "2021-10-18T14:53:17.371271Z"
    },
    "papermill": {
     "duration": 98.408141,
     "end_time": "2021-10-18T17:51:43.344953",
     "exception": false,
     "start_time": "2021-10-18T17:50:04.936812",
     "status": "completed"
    },
    "tags": []
   },
   "outputs": [
    {
     "name": "stdout",
     "output_type": "stream",
     "text": [
      "Done saving file\n"
     ]
    }
   ],
   "source": [
    "df_sub = pd.read_csv(\"/kaggle/input/ventilator-pressure-prediction/sample_submission.csv\", header=0)\n",
    "df_sub[\"pressure\"] = model.predict(df_test, batch_size=10240)\n",
    "df_sub.to_csv(\"./ventilator_extraFeatures_fnn1.csv\", index=False)\n",
    "print(\"Done saving file\")"
   ]
  }
 ],
 "metadata": {
  "kernelspec": {
   "display_name": "Python 3",
   "language": "python",
   "name": "python3"
  },
  "language_info": {
   "codemirror_mode": {
    "name": "ipython",
    "version": 3
   },
   "file_extension": ".py",
   "mimetype": "text/x-python",
   "name": "python",
   "nbconvert_exporter": "python",
   "pygments_lexer": "ipython3",
   "version": "3.7.10"
  },
  "papermill": {
   "default_parameters": {},
   "duration": 10693.837437,
   "end_time": "2021-10-18T17:52:30.890246",
   "environment_variables": {},
   "exception": null,
   "input_path": "__notebook__.ipynb",
   "output_path": "__notebook__.ipynb",
   "parameters": {},
   "start_time": "2021-10-18T14:54:17.052809",
   "version": "2.3.3"
  }
 },
 "nbformat": 4,
 "nbformat_minor": 5
}
