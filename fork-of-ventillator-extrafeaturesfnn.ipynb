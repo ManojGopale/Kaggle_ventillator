{
 "cells": [
  {
   "cell_type": "code",
   "execution_count": 1,
   "id": "973c815f",
   "metadata": {
    "_cell_guid": "b1076dfc-b9ad-4769-8c92-a6c4dae69d19",
    "_uuid": "8f2839f25d086af736a60e9eeb907d3b93b6e0e5",
    "execution": {
     "iopub.execute_input": "2021-10-23T17:14:29.545811Z",
     "iopub.status.busy": "2021-10-23T17:14:29.544108Z",
     "iopub.status.idle": "2021-10-23T17:14:29.568172Z",
     "shell.execute_reply": "2021-10-23T17:14:29.568657Z",
     "shell.execute_reply.started": "2021-10-21T19:53:22.194658Z"
    },
    "papermill": {
     "duration": 0.043475,
     "end_time": "2021-10-23T17:14:29.568962",
     "exception": false,
     "start_time": "2021-10-23T17:14:29.525487",
     "status": "completed"
    },
    "tags": []
   },
   "outputs": [
    {
     "name": "stdout",
     "output_type": "stream",
     "text": [
      "/kaggle/input/ventillator-extrafeaturesfnn/ventilator_extraFeatures_fnn1.csv\n",
      "/kaggle/input/ventillator-extrafeaturesfnn/__results__.html\n",
      "/kaggle/input/ventillator-extrafeaturesfnn/ventilator_extraFeatures_fnn1.h5\n",
      "/kaggle/input/ventillator-extrafeaturesfnn/__notebook__.ipynb\n",
      "/kaggle/input/ventillator-extrafeaturesfnn/__output__.json\n",
      "/kaggle/input/ventillator-extrafeaturesfnn/custom.css\n",
      "/kaggle/input/ventilator-pressure-prediction/sample_submission.csv\n",
      "/kaggle/input/ventilator-pressure-prediction/train.csv\n",
      "/kaggle/input/ventilator-pressure-prediction/test.csv\n"
     ]
    }
   ],
   "source": [
    "# This Python 3 environment comes with many helpful analytics libraries installed\n",
    "# It is defined by the kaggle/python Docker image: https://github.com/kaggle/docker-python\n",
    "# For example, here's several helpful packages to load\n",
    "\n",
    "import numpy as np # linear algebra\n",
    "import pandas as pd # data processing, CSV file I/O (e.g. pd.read_csv)\n",
    "\n",
    "# Input data files are available in the read-only \"../input/\" directory\n",
    "# For example, running this (by clicking run or pressing Shift+Enter) will list all files under the input directory\n",
    "\n",
    "import os\n",
    "for dirname, _, filenames in os.walk('/kaggle/input'):\n",
    "    for filename in filenames:\n",
    "        print(os.path.join(dirname, filename))\n",
    "\n",
    "# You can write up to 20GB to the current directory (/kaggle/working/) that gets preserved as output when you create a version using \"Save & Run All\" \n",
    "# You can also write temporary files to /kaggle/temp/, but they won't be saved outside of the current session"
   ]
  },
  {
   "cell_type": "code",
   "execution_count": 2,
   "id": "c5d8e4f0",
   "metadata": {
    "execution": {
     "iopub.execute_input": "2021-10-23T17:14:29.595119Z",
     "iopub.status.busy": "2021-10-23T17:14:29.594135Z",
     "iopub.status.idle": "2021-10-23T17:14:47.481205Z",
     "shell.execute_reply": "2021-10-23T17:14:47.480627Z",
     "shell.execute_reply.started": "2021-10-21T20:07:35.853706Z"
    },
    "papermill": {
     "duration": 17.90081,
     "end_time": "2021-10-23T17:14:47.481357",
     "exception": false,
     "start_time": "2021-10-23T17:14:29.580547",
     "status": "completed"
    },
    "tags": []
   },
   "outputs": [
    {
     "name": "stdout",
     "output_type": "stream",
     "text": [
      "   id  breath_id  R   C  time_step       u_in  u_out\n",
      "0   1          0  5  20   0.000000   0.000000      0\n",
      "1   2          0  5  20   0.031904   7.515046      0\n",
      "2   3          0  5  20   0.063827  14.651675      0\n",
      "3   4          0  5  20   0.095751  21.230610      0\n",
      "4   5          0  5  20   0.127644  26.320956      0\n",
      "(6036000, 8)\n",
      "(4024000, 7)\n"
     ]
    }
   ],
   "source": [
    "##Analyze the ventillator pressure dataset\n",
    "import pandas as pd\n",
    "import numpy as np\n",
    "##Create a NN model\n",
    "import tensorflow as tf\n",
    "from tensorflow.keras.models import Sequential, load_model\n",
    "from tensorflow.keras.layers import Dense, Activation, Dropout, LSTM\n",
    "from tensorflow.keras.callbacks import CSVLogger, TensorBoard, ModelCheckpoint, EarlyStopping\n",
    "from tensorflow.keras.preprocessing.sequence import TimeseriesGenerator\n",
    "from tensorflow.keras.preprocessing import timeseries_dataset_from_array\n",
    "\n",
    "DEBUG = False\n",
    "\n",
    "trainDataPath = \"/kaggle/input/ventilator-pressure-prediction/train.csv\"\n",
    "df_data = pd.read_csv(trainDataPath, header=0)\n",
    "\n",
    "df_data.head()\n",
    "#df_data.describe()\n",
    "\n",
    "testDataPath = \"/kaggle/input/ventilator-pressure-prediction/test.csv\"\n",
    "df_test = pd.read_csv(testDataPath, header=0)\n",
    "\n",
    "print(df_test.head())\n",
    "\n",
    "if DEBUG:\n",
    "    df_data = df_data.iloc[:80*100, :]\n",
    "    df_test = df_test.iloc[:80*100, :]\n",
    "print(df_data.shape)\n",
    "print(df_test.shape)"
   ]
  },
  {
   "cell_type": "code",
   "execution_count": 3,
   "id": "1b92f245",
   "metadata": {
    "execution": {
     "iopub.execute_input": "2021-10-23T17:14:47.516491Z",
     "iopub.status.busy": "2021-10-23T17:14:47.515709Z",
     "iopub.status.idle": "2021-10-23T17:14:47.518933Z",
     "shell.execute_reply": "2021-10-23T17:14:47.518380Z",
     "shell.execute_reply.started": "2021-10-21T20:07:48.45572Z"
    },
    "papermill": {
     "duration": 0.025899,
     "end_time": "2021-10-23T17:14:47.519095",
     "exception": false,
     "start_time": "2021-10-23T17:14:47.493196",
     "status": "completed"
    },
    "tags": []
   },
   "outputs": [],
   "source": [
    "def reduce_mem_usage(df, verbose=True):\n",
    "    numerics = ['int16', 'int32', 'int64', 'float32', 'float64']\n",
    "    start_mem = df.memory_usage().sum() / 1024**2\n",
    "    for col in df.columns:\n",
    "        col_type = df[col].dtypes\n",
    "        if col_type in numerics:\n",
    "            c_min = df[col].min()\n",
    "            c_max = df[col].max()\n",
    "            if str(col_type)[:3] == 'int':\n",
    "                if c_min > np.iinfo(np.int8).min and c_max < np.iinfo(np.int8).max:\n",
    "                    df[col] = df[col].astype(np.int8)\n",
    "                elif c_min > np.iinfo(np.int16).min and c_max < np.iinfo(np.int16).max:\n",
    "                    df[col] = df[col].astype(np.int16)\n",
    "                elif c_min > np.iinfo(np.int32).min and c_max < np.iinfo(np.int32).max:\n",
    "                    df[col] = df[col].astype(np.int32)\n",
    "                elif c_min > np.iinfo(np.int64).min and c_max < np.iinfo(np.int64).max:\n",
    "                    df[col] = df[col].astype(np.int64)  \n",
    "            else:\n",
    "                if c_min > np.finfo(np.float32).min and c_max < np.finfo(np.float32).max:\n",
    "                    df[col] = df[col].astype(np.float32)\n",
    "                else:\n",
    "                    df[col] = df[col].astype(np.float64)    \n",
    "    end_mem = df.memory_usage().sum() / 1024**2\n",
    "    if verbose: print('Mem. usage decreased from {:5.2f} Mb to {:5.2f} Mb ({:.1f}% reduction)'.format(start_mem, end_mem, 100 * (start_mem - end_mem) / start_mem))\n",
    "    return df"
   ]
  },
  {
   "cell_type": "code",
   "execution_count": 4,
   "id": "e8cf784f",
   "metadata": {
    "execution": {
     "iopub.execute_input": "2021-10-23T17:14:47.548766Z",
     "iopub.status.busy": "2021-10-23T17:14:47.547871Z",
     "iopub.status.idle": "2021-10-23T17:14:47.550880Z",
     "shell.execute_reply": "2021-10-23T17:14:47.550323Z",
     "shell.execute_reply.started": "2021-10-18T20:47:15.016408Z"
    },
    "papermill": {
     "duration": 0.020678,
     "end_time": "2021-10-23T17:14:47.551027",
     "exception": false,
     "start_time": "2021-10-23T17:14:47.530349",
     "status": "completed"
    },
    "tags": []
   },
   "outputs": [],
   "source": [
    "# df_data = df_data.iloc[0:240, :]\n",
    "# df_data[\"u_in_prev1\"] = df_data.groupby(\"breath_id\")[\"u_in\"].shift(1, fill_value=0)\n",
    "# df_data[\"u_in_prev2\"] = df_data.groupby(\"breath_id\")[\"u_in\"].shift(2, fill_value=0)\n",
    "# df_data[\"u_in_prev3\"] = df_data.groupby(\"breath_id\")[\"u_in\"].shift(3, fill_value=0)\n",
    "# df_data[\"u_in_prev4\"] = df_data.groupby(\"breath_id\")[\"u_in\"].shift(4, fill_value=0)\n",
    "# df_data[\"u_in_prev5\"] = df_data.groupby(\"breath_id\")[\"u_in\"].shift(5, fill_value=0)\n",
    "# df_data[\"u_in_prev6\"] = df_data.groupby(\"breath_id\")[\"u_in\"].shift(6, fill_value=0)\n",
    "# df_data[\"u_in_next1\"] = df_data.groupby(\"breath_id\")[\"u_in\"].shift(-1, fill_value=0)\n",
    "# df_data[\"u_in_next2\"] = df_data.groupby(\"breath_id\")[\"u_in\"].shift(-2, fill_value=0)\n",
    "# df_data[\"u_in_next3\"] = df_data.groupby(\"breath_id\")[\"u_in\"].shift(-3, fill_value=0)\n",
    "# df_data[\"u_in_next4\"] = df_data.groupby(\"breath_id\")[\"u_in\"].shift(-4, fill_value=0)\n",
    "# df_data[\"u_in_next5\"] = df_data.groupby(\"breath_id\")[\"u_in\"].shift(-5, fill_value=0)\n",
    "# df_data[\"u_in_next6\"] = df_data.groupby(\"breath_id\")[\"u_in\"].shift(-6, fill_value=0)\n",
    "# df_data[\"u_in_cumm\"] = df_data.groupby(\"breath_id\")[\"u_in\"].cumsum()\n",
    "# df_data[\"area\"] = df_data[\"time_step\"]*df_data[\"u_in\"]\n",
    "# df_data[\"area\"] = df_data.groupby(\"breath_id\")[\"area\"].cumsum()\n",
    "# df_data[\"u_in_diff1\"] = df_data[\"u_in\"] - df_data[\"u_in_prev1\"]\n",
    "# df_data[\"u_in_diff2\"] = df_data[\"u_in\"] - df_data[\"u_in_prev2\"]\n",
    "# df_data[\"u_in_diff3\"] = df_data[\"u_in\"] - df_data[\"u_in_prev3\"]\n",
    "# df_data[\"u_in_diff4\"] = df_data[\"u_in\"] - df_data[\"u_in_prev4\"]\n",
    "# df_data[\"u_in_diff5\"] = df_data[\"u_in\"] - df_data[\"u_in_prev5\"]\n",
    "# df_data[\"u_in_diff6\"] = df_data[\"u_in\"] - df_data[\"u_in_prev6\"]\n",
    "\n",
    "# df_data[\"u_out_prev1\"] = df_data.groupby(\"breath_id\")[\"u_out\"].shift(1, fill_value=0)\n",
    "# df_data[\"u_out_prev2\"] = df_data.groupby(\"breath_id\")[\"u_out\"].shift(2, fill_value=0)\n",
    "# df_data[\"u_out_prev3\"] = df_data.groupby(\"breath_id\")[\"u_out\"].shift(3, fill_value=0)\n",
    "# df_data[\"u_out_prev4\"] = df_data.groupby(\"breath_id\")[\"u_out\"].shift(4, fill_value=0)\n",
    "# df_data[\"u_out_prev5\"] = df_data.groupby(\"breath_id\")[\"u_out\"].shift(5, fill_value=0)\n",
    "# df_data[\"u_out_prev6\"] = df_data.groupby(\"breath_id\")[\"u_out\"].shift(6, fill_value=0)\n",
    "# df_data[\"u_out_next1\"] = df_data.groupby(\"breath_id\")[\"u_out\"].shift(-1, fill_value=0)\n",
    "# df_data[\"u_out_next2\"] = df_data.groupby(\"breath_id\")[\"u_out\"].shift(-2, fill_value=0)\n",
    "# df_data[\"u_out_next3\"] = df_data.groupby(\"breath_id\")[\"u_out\"].shift(-3, fill_value=0)\n",
    "# df_data[\"u_out_next4\"] = df_data.groupby(\"breath_id\")[\"u_out\"].shift(-4, fill_value=0)\n",
    "# df_data[\"u_out_next5\"] = df_data.groupby(\"breath_id\")[\"u_out\"].shift(-5, fill_value=0)\n",
    "# df_data[\"u_out_next6\"] = df_data.groupby(\"breath_id\")[\"u_out\"].shift(-6, fill_value=0)\n",
    "# df_data[\"u_out_diff1\"] = df_data[\"u_out\"] - df_data[\"u_out_prev1\"]\n",
    "# df_data[\"u_out_diff2\"] = df_data[\"u_out\"] - df_data[\"u_out_prev2\"]\n",
    "# df_data[\"u_out_diff3\"] = df_data[\"u_out\"] - df_data[\"u_out_prev3\"]\n",
    "# df_data[\"u_out_diff4\"] = df_data[\"u_out\"] - df_data[\"u_out_prev4\"]\n",
    "# df_data[\"u_out_diff5\"] = df_data[\"u_out\"] - df_data[\"u_out_prev5\"]\n",
    "# df_data[\"u_out_diff6\"] = df_data[\"u_out\"] - df_data[\"u_out_prev6\"]\n",
    "\n",
    "# df_data[\"u_in_diff_max\"] = df_data.groupby(\"breath_id\")[\"u_in\"].transform(\"max\") - df_data[\"u_in\"]\n",
    "# df_data[\"u_in_diff_mean\"] = df_data.groupby(\"breath_id\")[\"u_in\"].transform(\"mean\") - df_data[\"u_in\"]\n",
    "\n",
    "# df_data[\"u_in_u_out\"] = df_data[\"u_in\"] * df_data[\"u_out\"]\n",
    "# df_data[\"u_out_timestep\"] = df_data[\"u_out\"] * df_data[\"time_step\"]\n",
    "\n",
    "# df_data['R'] = df_data['R'].astype(str)\n",
    "# df_data['C'] = df_data['C'].astype(str)\n",
    "# df_data['R__C'] = df_data[\"R\"].astype(str) + '__' + df_data[\"C\"].astype(str)\n",
    "# df_data = pd.get_dummies(df_data)\n",
    "\n",
    "# print(df_data.head())\n",
    "# print(df_data.iloc[75:85,:])\n"
   ]
  },
  {
   "cell_type": "code",
   "execution_count": 5,
   "id": "f9b423c1",
   "metadata": {
    "execution": {
     "iopub.execute_input": "2021-10-23T17:14:47.594727Z",
     "iopub.status.busy": "2021-10-23T17:14:47.587685Z",
     "iopub.status.idle": "2021-10-23T17:14:47.597316Z",
     "shell.execute_reply": "2021-10-23T17:14:47.596854Z",
     "shell.execute_reply.started": "2021-10-21T20:07:55.876277Z"
    },
    "papermill": {
     "duration": 0.034668,
     "end_time": "2021-10-23T17:14:47.597450",
     "exception": false,
     "start_time": "2021-10-23T17:14:47.562782",
     "status": "completed"
    },
    "tags": []
   },
   "outputs": [],
   "source": [
    "def addFeatures(df_data):\n",
    "    df_data[\"u_in_prev1\"] = df_data.groupby(\"breath_id\")[\"u_in\"].shift(1, fill_value=0)\n",
    "    df_data[\"u_in_prev2\"] = df_data.groupby(\"breath_id\")[\"u_in\"].shift(2, fill_value=0)\n",
    "    df_data[\"u_in_prev3\"] = df_data.groupby(\"breath_id\")[\"u_in\"].shift(3, fill_value=0)\n",
    "    df_data[\"u_in_prev4\"] = df_data.groupby(\"breath_id\")[\"u_in\"].shift(4, fill_value=0)\n",
    "    df_data[\"u_in_prev5\"] = df_data.groupby(\"breath_id\")[\"u_in\"].shift(5, fill_value=0)\n",
    "    df_data[\"u_in_prev6\"] = df_data.groupby(\"breath_id\")[\"u_in\"].shift(6, fill_value=0)\n",
    "    df_data[\"u_in_next1\"] = df_data.groupby(\"breath_id\")[\"u_in\"].shift(-1, fill_value=0)\n",
    "    df_data[\"u_in_next2\"] = df_data.groupby(\"breath_id\")[\"u_in\"].shift(-2, fill_value=0)\n",
    "    df_data[\"u_in_next3\"] = df_data.groupby(\"breath_id\")[\"u_in\"].shift(-3, fill_value=0)\n",
    "    df_data[\"u_in_next4\"] = df_data.groupby(\"breath_id\")[\"u_in\"].shift(-4, fill_value=0)\n",
    "    df_data[\"u_in_next5\"] = df_data.groupby(\"breath_id\")[\"u_in\"].shift(-5, fill_value=0)\n",
    "    df_data[\"u_in_next6\"] = df_data.groupby(\"breath_id\")[\"u_in\"].shift(-6, fill_value=0)\n",
    "    df_data[\"u_in_cumm\"] = df_data.groupby(\"breath_id\")[\"u_in\"].cumsum()\n",
    "    df_data[\"area\"] = df_data[\"time_step\"]*df_data[\"u_in\"]\n",
    "    df_data[\"area\"] = df_data.groupby(\"breath_id\")[\"area\"].cumsum()\n",
    "    df_data[\"u_in_diff1\"] = df_data[\"u_in\"] - df_data[\"u_in_prev1\"]\n",
    "    df_data[\"u_in_diff2\"] = df_data[\"u_in\"] - df_data[\"u_in_prev2\"]\n",
    "    df_data[\"u_in_diff3\"] = df_data[\"u_in\"] - df_data[\"u_in_prev3\"]\n",
    "    df_data[\"u_in_diff4\"] = df_data[\"u_in\"] - df_data[\"u_in_prev4\"]\n",
    "    df_data[\"u_in_diff5\"] = df_data[\"u_in\"] - df_data[\"u_in_prev5\"]\n",
    "    df_data[\"u_in_diff6\"] = df_data[\"u_in\"] - df_data[\"u_in_prev6\"]\n",
    "\n",
    "    df_data[\"u_out_prev1\"] = df_data.groupby(\"breath_id\")[\"u_out\"].shift(1, fill_value=0)\n",
    "    df_data[\"u_out_prev2\"] = df_data.groupby(\"breath_id\")[\"u_out\"].shift(2, fill_value=0)\n",
    "    df_data[\"u_out_prev3\"] = df_data.groupby(\"breath_id\")[\"u_out\"].shift(3, fill_value=0)\n",
    "    df_data[\"u_out_prev4\"] = df_data.groupby(\"breath_id\")[\"u_out\"].shift(4, fill_value=0)\n",
    "    df_data[\"u_out_prev5\"] = df_data.groupby(\"breath_id\")[\"u_out\"].shift(5, fill_value=0)\n",
    "    df_data[\"u_out_prev6\"] = df_data.groupby(\"breath_id\")[\"u_out\"].shift(6, fill_value=0)\n",
    "    df_data[\"u_out_next1\"] = df_data.groupby(\"breath_id\")[\"u_out\"].shift(-1, fill_value=0)\n",
    "    df_data[\"u_out_next2\"] = df_data.groupby(\"breath_id\")[\"u_out\"].shift(-2, fill_value=0)\n",
    "    df_data[\"u_out_next3\"] = df_data.groupby(\"breath_id\")[\"u_out\"].shift(-3, fill_value=0)\n",
    "    df_data[\"u_out_next4\"] = df_data.groupby(\"breath_id\")[\"u_out\"].shift(-4, fill_value=0)\n",
    "    df_data[\"u_out_next5\"] = df_data.groupby(\"breath_id\")[\"u_out\"].shift(-5, fill_value=0)\n",
    "    df_data[\"u_out_next6\"] = df_data.groupby(\"breath_id\")[\"u_out\"].shift(-6, fill_value=0)\n",
    "    df_data[\"u_out_diff1\"] = df_data[\"u_out\"] - df_data[\"u_out_prev1\"]\n",
    "    df_data[\"u_out_diff2\"] = df_data[\"u_out\"] - df_data[\"u_out_prev2\"]\n",
    "    df_data[\"u_out_diff3\"] = df_data[\"u_out\"] - df_data[\"u_out_prev3\"]\n",
    "    df_data[\"u_out_diff4\"] = df_data[\"u_out\"] - df_data[\"u_out_prev4\"]\n",
    "    df_data[\"u_out_diff5\"] = df_data[\"u_out\"] - df_data[\"u_out_prev5\"]\n",
    "    df_data[\"u_out_diff6\"] = df_data[\"u_out\"] - df_data[\"u_out_prev6\"]\n",
    "\n",
    "    df_data[\"u_in_diff_max\"] = df_data.groupby(\"breath_id\")[\"u_in\"].transform(\"max\") - df_data[\"u_in\"]\n",
    "    df_data[\"u_in_diff_mean\"] = df_data.groupby(\"breath_id\")[\"u_in\"].transform(\"mean\") - df_data[\"u_in\"]\n",
    "\n",
    "    df_data[\"u_in_u_out\"] = df_data[\"u_in\"] * df_data[\"u_out\"]\n",
    "    df_data[\"u_out_timestep\"] = df_data[\"u_out\"] * df_data[\"time_step\"]\n",
    "\n",
    "    df_data['R'] = df_data['R'].astype(str)\n",
    "    df_data['C'] = df_data['C'].astype(str)\n",
    "    df_data['R__C'] = df_data[\"R\"].astype(str) + '__' + df_data[\"C\"].astype(str)\n",
    "    df_data = pd.get_dummies(df_data)\n",
    "    return df_data"
   ]
  },
  {
   "cell_type": "code",
   "execution_count": 6,
   "id": "7699e928",
   "metadata": {
    "execution": {
     "iopub.execute_input": "2021-10-23T17:14:47.629049Z",
     "iopub.status.busy": "2021-10-23T17:14:47.628320Z",
     "iopub.status.idle": "2021-10-23T17:22:28.839691Z",
     "shell.execute_reply": "2021-10-23T17:22:28.840455Z",
     "shell.execute_reply.started": "2021-10-21T20:08:00.190215Z"
    },
    "papermill": {
     "duration": 461.232094,
     "end_time": "2021-10-23T17:22:28.840741",
     "exception": false,
     "start_time": "2021-10-23T17:14:47.608647",
     "status": "completed"
    },
    "tags": []
   },
   "outputs": [
    {
     "name": "stdout",
     "output_type": "stream",
     "text": [
      "(6036000, 63)\n",
      "(4024000, 62)\n"
     ]
    }
   ],
   "source": [
    "##Added features for data and test\n",
    "df_data = addFeatures(df_data)\n",
    "df_test = addFeatures(df_test)\n",
    "print(df_data.shape)\n",
    "print(df_test.shape)"
   ]
  },
  {
   "cell_type": "code",
   "execution_count": 7,
   "id": "104554f6",
   "metadata": {
    "execution": {
     "iopub.execute_input": "2021-10-23T17:22:28.875504Z",
     "iopub.status.busy": "2021-10-23T17:22:28.874799Z",
     "iopub.status.idle": "2021-10-23T17:22:41.472390Z",
     "shell.execute_reply": "2021-10-23T17:22:41.471902Z",
     "shell.execute_reply.started": "2021-10-21T20:19:58.517412Z"
    },
    "papermill": {
     "duration": 12.618628,
     "end_time": "2021-10-23T17:22:41.472532",
     "exception": false,
     "start_time": "2021-10-23T17:22:28.853904",
     "status": "completed"
    },
    "tags": []
   },
   "outputs": [
    {
     "name": "stdout",
     "output_type": "stream",
     "text": [
      "Mem. usage decreased from 2296.80 Mb to 863.46 Mb (62.4% reduction)\n",
      "Mem. usage decreased from 1500.50 Mb to 560.29 Mb (62.7% reduction)\n"
     ]
    }
   ],
   "source": [
    "##Reduce memory data occupied by changing the datatypes\n",
    "df_data = reduce_mem_usage(df_data)\n",
    "#print(df_data.dtypes)\n",
    "df_test = reduce_mem_usage(df_test)\n",
    "#df_test.dtypes"
   ]
  },
  {
   "cell_type": "code",
   "execution_count": 8,
   "id": "ad117909",
   "metadata": {
    "execution": {
     "iopub.execute_input": "2021-10-23T17:22:41.502873Z",
     "iopub.status.busy": "2021-10-23T17:22:41.502213Z",
     "iopub.status.idle": "2021-10-23T17:22:47.331870Z",
     "shell.execute_reply": "2021-10-23T17:22:47.332324Z",
     "shell.execute_reply.started": "2021-10-21T20:20:42.389879Z"
    },
    "papermill": {
     "duration": 5.847962,
     "end_time": "2021-10-23T17:22:47.332509",
     "exception": false,
     "start_time": "2021-10-23T17:22:41.484547",
     "status": "completed"
    },
    "tags": []
   },
   "outputs": [
    {
     "name": "stdout",
     "output_type": "stream",
     "text": [
      "data shape= (6036000, 60), Test shape= (4024000, 60)\n"
     ]
    }
   ],
   "source": [
    "##Shuffle the data and get the features similar for train and test\n",
    "df_data = df_data.sample(frac=1)\n",
    "df_y_data = df_data[\"pressure\"].copy()\n",
    "df_data = df_data.drop([\"id\", \"breath_id\", \"pressure\"], axis=1)\n",
    "\n",
    "df_test = df_test.drop([\"id\", \"breath_id\"], axis=1)\n",
    "print(\"data shape= %s, Test shape= %s\" %(df_data.shape, df_test.shape))"
   ]
  },
  {
   "cell_type": "code",
   "execution_count": 9,
   "id": "cd219655",
   "metadata": {
    "execution": {
     "iopub.execute_input": "2021-10-23T17:22:47.362393Z",
     "iopub.status.busy": "2021-10-23T17:22:47.361739Z",
     "iopub.status.idle": "2021-10-23T17:23:01.108022Z",
     "shell.execute_reply": "2021-10-23T17:23:01.108707Z",
     "shell.execute_reply.started": "2021-10-21T20:20:58.605825Z"
    },
    "papermill": {
     "duration": 13.763787,
     "end_time": "2021-10-23T17:23:01.108956",
     "exception": false,
     "start_time": "2021-10-23T17:22:47.345169",
     "status": "completed"
    },
    "tags": []
   },
   "outputs": [
    {
     "name": "stdout",
     "output_type": "stream",
     "text": [
      "[ 0.08128715 -0.95553905  0.         -0.8641206  -0.8425267  -0.8192579\n",
      " -0.7941516  -0.76915    -0.7384456  -0.8944703  -0.80248475 -0.63450694\n",
      " -0.49158016 -0.36766803 -0.25148168 -0.45099223 -0.21418367 -0.04551295\n",
      " -0.04861012 -0.05188134 -0.05116878 -0.05860326 -0.056019    0.\n",
      "  0.          0.          0.          0.          0.          0.\n",
      "  0.          0.          0.          0.          0.          0.\n",
      "  0.          0.          0.          0.          0.         -0.02694016\n",
      "  0.25912455  0.          0.05469879  0.          0.          1.\n",
      "  1.          0.          0.          0.          0.          0.\n",
      "  1.          0.          0.          0.          0.          0.        ]\n",
      "[-0.9890522  -0.95553905 -1.         -0.8641206  -0.8425267  -0.8192579\n",
      " -0.7941516  -0.76915    -0.7384456   0.6527179   2.085062    3.4264958\n",
      "  4.4720716   5.33336     5.980515   -0.72544724 -0.5165805  -0.04551295\n",
      " -0.04861012 -0.05188134 -0.05116878 -0.05860326 -0.056019   -1.\n",
      " -1.         -1.         -1.         -1.         -1.         -1.\n",
      " -1.         -1.         -1.         -1.         -1.          0.\n",
      "  0.          0.          0.          0.          0.          0.5841217\n",
      "  1.1644026   0.         -0.6655413   0.          1.          0.\n",
      "  0.          1.          0.          0.          0.          0.\n",
      "  0.          0.          0.          0.          1.          0.        ]\n"
     ]
    }
   ],
   "source": [
    "##Normalize the data\n",
    "from sklearn.preprocessing import RobustScaler, normalize\n",
    "RS = RobustScaler()\n",
    "train = RS.fit_transform(df_data)\n",
    "test = RS.transform(df_test)\n",
    "print(train[0,:])\n",
    "print(test[0,:])"
   ]
  },
  {
   "cell_type": "code",
   "execution_count": 10,
   "id": "95927656",
   "metadata": {
    "execution": {
     "iopub.execute_input": "2021-10-23T17:23:01.138748Z",
     "iopub.status.busy": "2021-10-23T17:23:01.138106Z",
     "iopub.status.idle": "2021-10-23T17:23:05.310013Z",
     "shell.execute_reply": "2021-10-23T17:23:05.309347Z",
     "shell.execute_reply.started": "2021-10-18T23:33:24.196594Z"
    },
    "papermill": {
     "duration": 4.187426,
     "end_time": "2021-10-23T17:23:05.310184",
     "exception": false,
     "start_time": "2021-10-23T17:23:01.122758",
     "status": "completed"
    },
    "tags": []
   },
   "outputs": [
    {
     "name": "stdout",
     "output_type": "stream",
     "text": [
      "950\n",
      "train size= (4828800, 60), dev size = (1207200, 60)\n",
      "\n"
     ]
    }
   ],
   "source": [
    "##Shuffle df_data and then get df_y_train and df_x_train\n",
    "from sklearn.model_selection import train_test_split\n",
    "\n",
    "## Remove random_state if we want variable train and dev sizes\n",
    "#x_train, x_dev = train_test_split(train, train_size=0.8, random_state=9)\n",
    "x_train, x_dev, y_train, y_dev = train_test_split(df_data, df_y_data, train_size=0.8)\n",
    "\n",
    "df_data_y_sort = np.sort(df_y_data.unique())\n",
    "print(len(df_data_y_sort))\n",
    "\n",
    "del(df_data)\n",
    "# del(df_y_data)\n",
    "print(\"train size= %s, dev size = %s\\n\" %(x_train.shape, x_dev.shape))"
   ]
  },
  {
   "cell_type": "code",
   "execution_count": 11,
   "id": "0c63edd6",
   "metadata": {
    "execution": {
     "iopub.execute_input": "2021-10-23T17:23:05.343935Z",
     "iopub.status.busy": "2021-10-23T17:23:05.343289Z",
     "iopub.status.idle": "2021-10-23T17:23:05.485246Z",
     "shell.execute_reply": "2021-10-23T17:23:05.485795Z",
     "shell.execute_reply.started": "2021-10-18T23:40:01.050675Z"
    },
    "papermill": {
     "duration": 0.162549,
     "end_time": "2021-10-23T17:23:05.485979",
     "exception": false,
     "start_time": "2021-10-23T17:23:05.323430",
     "status": "completed"
    },
    "tags": []
   },
   "outputs": [
    {
     "name": "stdout",
     "output_type": "stream",
     "text": [
      "Model: \"sequential\"\n",
      "_________________________________________________________________\n",
      "Layer (type)                 Output Shape              Param #   \n",
      "=================================================================\n",
      "dense (Dense)                (None, 256)               15616     \n",
      "_________________________________________________________________\n",
      "dense_1 (Dense)              (None, 512)               131584    \n",
      "_________________________________________________________________\n",
      "dense_2 (Dense)              (None, 512)               262656    \n",
      "_________________________________________________________________\n",
      "dense_3 (Dense)              (None, 64)                32832     \n",
      "_________________________________________________________________\n",
      "dense_4 (Dense)              (None, 1)                 65        \n",
      "=================================================================\n",
      "Total params: 442,753\n",
      "Trainable params: 442,753\n",
      "Non-trainable params: 0\n",
      "_________________________________________________________________\n"
     ]
    },
    {
     "name": "stderr",
     "output_type": "stream",
     "text": [
      "\n",
      "User settings:\n",
      "\n",
      "   KMP_AFFINITY=granularity=fine,verbose,compact,1,0\n",
      "   KMP_BLOCKTIME=0\n",
      "   KMP_DUPLICATE_LIB_OK=True\n",
      "   KMP_INIT_AT_FORK=FALSE\n",
      "   KMP_SETTINGS=1\n",
      "   KMP_WARNINGS=0\n",
      "\n",
      "Effective settings:\n",
      "\n",
      "   KMP_ABORT_DELAY=0\n",
      "   KMP_ADAPTIVE_LOCK_PROPS='1,1024'\n",
      "   KMP_ALIGN_ALLOC=64\n",
      "   KMP_ALL_THREADPRIVATE=128\n",
      "   KMP_ATOMIC_MODE=2\n",
      "   KMP_BLOCKTIME=0\n",
      "   KMP_CPUINFO_FILE: value is not defined\n",
      "   KMP_DETERMINISTIC_REDUCTION=false\n",
      "   KMP_DEVICE_THREAD_LIMIT=2147483647\n",
      "   KMP_DISP_NUM_BUFFERS=7\n",
      "   KMP_DUPLICATE_LIB_OK=true\n",
      "   KMP_ENABLE_TASK_THROTTLING=true\n",
      "   KMP_FORCE_REDUCTION: value is not defined\n",
      "   KMP_FOREIGN_THREADS_THREADPRIVATE=true\n",
      "   KMP_FORKJOIN_BARRIER='2,2'\n",
      "   KMP_FORKJOIN_BARRIER_PATTERN='hyper,hyper'\n",
      "   KMP_GTID_MODE=3\n",
      "   KMP_HANDLE_SIGNALS=false\n",
      "   KMP_HOT_TEAMS_MAX_LEVEL=1\n",
      "   KMP_HOT_TEAMS_MODE=0\n",
      "   KMP_INIT_AT_FORK=true\n",
      "   KMP_LIBRARY=throughput\n",
      "   KMP_LOCK_KIND=queuing\n",
      "   KMP_MALLOC_POOL_INCR=1M\n",
      "   KMP_NUM_LOCKS_IN_BLOCK=1\n",
      "   KMP_PLAIN_BARRIER='2,2'\n",
      "   KMP_PLAIN_BARRIER_PATTERN='hyper,hyper'\n",
      "   KMP_REDUCTION_BARRIER='1,1'\n",
      "   KMP_REDUCTION_BARRIER_PATTERN='hyper,hyper'\n",
      "   KMP_SCHEDULE='static,balanced;guided,iterative'\n",
      "   KMP_SETTINGS=true\n",
      "   KMP_SPIN_BACKOFF_PARAMS='4096,100'\n",
      "   KMP_STACKOFFSET=64\n",
      "   KMP_STACKPAD=0\n",
      "   KMP_STACKSIZE=8M\n",
      "   KMP_STORAGE_MAP=false\n",
      "   KMP_TASKING=2\n",
      "   KMP_TASKLOOP_MIN_TASKS=0\n",
      "   KMP_TASK_STEALING_CONSTRAINT=1\n",
      "   KMP_TEAMS_THREAD_LIMIT=4\n",
      "   KMP_TOPOLOGY_METHOD=all\n",
      "   KMP_USE_YIELD=1\n",
      "   KMP_VERSION=false\n",
      "   KMP_WARNINGS=false\n",
      "   OMP_AFFINITY_FORMAT='OMP: pid %P tid %i thread %n bound to OS proc set {%A}'\n",
      "   OMP_ALLOCATOR=omp_default_mem_alloc\n",
      "   OMP_CANCELLATION=false\n",
      "   OMP_DEFAULT_DEVICE=0\n",
      "   OMP_DISPLAY_AFFINITY=false\n",
      "   OMP_DISPLAY_ENV=false\n",
      "   OMP_DYNAMIC=false\n",
      "   OMP_MAX_ACTIVE_LEVELS=1\n",
      "   OMP_MAX_TASK_PRIORITY=0\n",
      "   OMP_NESTED: deprecated; max-active-levels-var=1\n",
      "   OMP_NUM_THREADS: value is not defined\n",
      "   OMP_PLACES: value is not defined\n",
      "   OMP_PROC_BIND='intel'\n",
      "   OMP_SCHEDULE='static'\n",
      "   OMP_STACKSIZE=8M\n",
      "   OMP_TARGET_OFFLOAD=DEFAULT\n",
      "   OMP_THREAD_LIMIT=2147483647\n",
      "   OMP_WAIT_POLICY=PASSIVE\n",
      "   KMP_AFFINITY='verbose,warnings,respect,granularity=fine,compact,1,0'\n",
      "\n",
      "2021-10-23 17:23:05.384983: I tensorflow/core/common_runtime/process_util.cc:146] Creating new thread pool with default inter op setting: 2. Tune using inter_op_parallelism_threads for best performance.\n"
     ]
    }
   ],
   "source": [
    "##Create FNN for training\n",
    "import tensorflow as tf\n",
    "from tensorflow.keras.models import Sequential, load_model\n",
    "from tensorflow.keras.layers import Dense, Activation, Dropout\n",
    "from tensorflow.keras.callbacks import CSVLogger, TensorBoard, ModelCheckpoint, EarlyStopping\n",
    "\n",
    "##Clear models\n",
    "tf.keras.backend.clear_session()\n",
    "\n",
    "inputNodes = x_train.shape[1]\n",
    "\n",
    "model = Sequential()\n",
    "model.add(tf.keras.Input(shape=(inputNodes,)))\n",
    "model.add(Dense(256,activation='relu'))\n",
    "#model.add(Dropout(0.2))\n",
    "model.add(Dense(512, activation='relu'))\n",
    "#model.add(Dropout(0.2))\n",
    "model.add(Dense(512, activation='relu'))\n",
    "model.add(Dense(64, activation='relu'))\n",
    "model.add(Dense(1, activation='linear'))\n",
    "\n",
    "model.summary()"
   ]
  },
  {
   "cell_type": "code",
   "execution_count": 12,
   "id": "e330aca9",
   "metadata": {
    "execution": {
     "iopub.execute_input": "2021-10-23T17:23:05.520994Z",
     "iopub.status.busy": "2021-10-23T17:23:05.520358Z",
     "iopub.status.idle": "2021-10-23T18:47:57.215603Z",
     "shell.execute_reply": "2021-10-23T18:47:57.216552Z",
     "shell.execute_reply.started": "2021-10-18T23:40:05.201329Z"
    },
    "papermill": {
     "duration": 5091.717617,
     "end_time": "2021-10-23T18:47:57.216911",
     "exception": false,
     "start_time": "2021-10-23T17:23:05.499294",
     "status": "completed"
    },
    "tags": []
   },
   "outputs": [
    {
     "name": "stderr",
     "output_type": "stream",
     "text": [
      "2021-10-23 17:23:07.849267: I tensorflow/compiler/mlir/mlir_graph_optimization_pass.cc:185] None of the MLIR Optimization Passes are enabled (registered 2)\n"
     ]
    },
    {
     "name": "stdout",
     "output_type": "stream",
     "text": [
      "Epoch 1/100\n",
      "4716/4716 [==============================] - 149s 31ms/step - loss: 1.0990 - mean_absolute_error: 1.0990 - val_loss: 0.8659 - val_mean_absolute_error: 0.8659\n",
      "Epoch 2/100\n",
      "4716/4716 [==============================] - 152s 32ms/step - loss: 0.6836 - mean_absolute_error: 0.6836 - val_loss: 0.6241 - val_mean_absolute_error: 0.6241\n",
      "Epoch 3/100\n",
      "4716/4716 [==============================] - 152s 32ms/step - loss: 0.6198 - mean_absolute_error: 0.6198 - val_loss: 0.5982 - val_mean_absolute_error: 0.5982\n",
      "Epoch 4/100\n",
      "4716/4716 [==============================] - 157s 33ms/step - loss: 0.5808 - mean_absolute_error: 0.5808 - val_loss: 0.5469 - val_mean_absolute_error: 0.5469\n",
      "Epoch 5/100\n",
      "4716/4716 [==============================] - 153s 32ms/step - loss: 0.5546 - mean_absolute_error: 0.5546 - val_loss: 0.5332 - val_mean_absolute_error: 0.5332\n",
      "Epoch 6/100\n",
      "4716/4716 [==============================] - 156s 33ms/step - loss: 0.5346 - mean_absolute_error: 0.5346 - val_loss: 0.5209 - val_mean_absolute_error: 0.5209\n",
      "Epoch 7/100\n",
      "4716/4716 [==============================] - 154s 33ms/step - loss: 0.5183 - mean_absolute_error: 0.5183 - val_loss: 0.5260 - val_mean_absolute_error: 0.5260\n",
      "Epoch 8/100\n",
      "4716/4716 [==============================] - 154s 33ms/step - loss: 0.5063 - mean_absolute_error: 0.5063 - val_loss: 0.4935 - val_mean_absolute_error: 0.4935\n",
      "Epoch 9/100\n",
      "4716/4716 [==============================] - 154s 33ms/step - loss: 0.4951 - mean_absolute_error: 0.4951 - val_loss: 0.4965 - val_mean_absolute_error: 0.4965\n",
      "Epoch 10/100\n",
      "4716/4716 [==============================] - 155s 33ms/step - loss: 0.4856 - mean_absolute_error: 0.4856 - val_loss: 0.4908 - val_mean_absolute_error: 0.4908\n",
      "Epoch 11/100\n",
      "4716/4716 [==============================] - 154s 33ms/step - loss: 0.4775 - mean_absolute_error: 0.4775 - val_loss: 0.4671 - val_mean_absolute_error: 0.4671\n",
      "Epoch 12/100\n",
      "4716/4716 [==============================] - 155s 33ms/step - loss: 0.4699 - mean_absolute_error: 0.4699 - val_loss: 0.4711 - val_mean_absolute_error: 0.4711\n",
      "Epoch 13/100\n",
      "4716/4716 [==============================] - 159s 34ms/step - loss: 0.4632 - mean_absolute_error: 0.4632 - val_loss: 0.4709 - val_mean_absolute_error: 0.4709\n",
      "Epoch 14/100\n",
      "4716/4716 [==============================] - 153s 32ms/step - loss: 0.4572 - mean_absolute_error: 0.4572 - val_loss: 0.4564 - val_mean_absolute_error: 0.4564\n",
      "Epoch 15/100\n",
      "4716/4716 [==============================] - 154s 33ms/step - loss: 0.4525 - mean_absolute_error: 0.4525 - val_loss: 0.4587 - val_mean_absolute_error: 0.4587\n",
      "Epoch 16/100\n",
      "4716/4716 [==============================] - 153s 33ms/step - loss: 0.4467 - mean_absolute_error: 0.4467 - val_loss: 0.4431 - val_mean_absolute_error: 0.4431\n",
      "Epoch 17/100\n",
      "4716/4716 [==============================] - 153s 32ms/step - loss: 0.4432 - mean_absolute_error: 0.4432 - val_loss: 0.4368 - val_mean_absolute_error: 0.4368\n",
      "Epoch 18/100\n",
      "4716/4716 [==============================] - 164s 35ms/step - loss: 0.4384 - mean_absolute_error: 0.4384 - val_loss: 0.4369 - val_mean_absolute_error: 0.4369\n",
      "Epoch 19/100\n",
      "4716/4716 [==============================] - 155s 33ms/step - loss: 0.4346 - mean_absolute_error: 0.4346 - val_loss: 0.4556 - val_mean_absolute_error: 0.4556\n",
      "Epoch 20/100\n",
      "4716/4716 [==============================] - 156s 33ms/step - loss: 0.4312 - mean_absolute_error: 0.4312 - val_loss: 0.4293 - val_mean_absolute_error: 0.4293\n",
      "Epoch 21/100\n",
      "4716/4716 [==============================] - 157s 33ms/step - loss: 0.4280 - mean_absolute_error: 0.4280 - val_loss: 0.4246 - val_mean_absolute_error: 0.4246\n",
      "Epoch 22/100\n",
      "4716/4716 [==============================] - 156s 33ms/step - loss: 0.4246 - mean_absolute_error: 0.4246 - val_loss: 0.4228 - val_mean_absolute_error: 0.4228\n",
      "Epoch 23/100\n",
      "4716/4716 [==============================] - 159s 34ms/step - loss: 0.4222 - mean_absolute_error: 0.4222 - val_loss: 0.4272 - val_mean_absolute_error: 0.4272\n",
      "Epoch 24/100\n",
      "4716/4716 [==============================] - 156s 33ms/step - loss: 0.4191 - mean_absolute_error: 0.4191 - val_loss: 0.4161 - val_mean_absolute_error: 0.4161\n",
      "Epoch 25/100\n",
      "4716/4716 [==============================] - 157s 33ms/step - loss: 0.4172 - mean_absolute_error: 0.4172 - val_loss: 0.4261 - val_mean_absolute_error: 0.4261\n",
      "Epoch 26/100\n",
      "4716/4716 [==============================] - 145s 31ms/step - loss: 0.4146 - mean_absolute_error: 0.4146 - val_loss: 0.4133 - val_mean_absolute_error: 0.4133\n",
      "Epoch 27/100\n",
      "4716/4716 [==============================] - 157s 33ms/step - loss: 0.4121 - mean_absolute_error: 0.4121 - val_loss: 0.4227 - val_mean_absolute_error: 0.4227\n",
      "Epoch 28/100\n",
      "4716/4716 [==============================] - 146s 31ms/step - loss: 0.4101 - mean_absolute_error: 0.4101 - val_loss: 0.4037 - val_mean_absolute_error: 0.4037\n",
      "Epoch 29/100\n",
      "4716/4716 [==============================] - 157s 33ms/step - loss: 0.4084 - mean_absolute_error: 0.4084 - val_loss: 0.4189 - val_mean_absolute_error: 0.4189\n",
      "Epoch 30/100\n",
      "4716/4716 [==============================] - 159s 34ms/step - loss: 0.4065 - mean_absolute_error: 0.4065 - val_loss: 0.4073 - val_mean_absolute_error: 0.4073\n",
      "Epoch 31/100\n",
      "4716/4716 [==============================] - 145s 31ms/step - loss: 0.4047 - mean_absolute_error: 0.4047 - val_loss: 0.4397 - val_mean_absolute_error: 0.4397\n",
      "Epoch 32/100\n",
      "4716/4716 [==============================] - 159s 34ms/step - loss: 0.4029 - mean_absolute_error: 0.4029 - val_loss: 0.4120 - val_mean_absolute_error: 0.4120\n",
      "Epoch 33/100\n",
      "4716/4716 [==============================] - 146s 31ms/step - loss: 0.4013 - mean_absolute_error: 0.4013 - val_loss: 0.4126 - val_mean_absolute_error: 0.4126\n",
      "Restoring model weights from the end of the best epoch.\n",
      "Epoch 00033: early stopping\n"
     ]
    }
   ],
   "source": [
    "earlystop = tf.keras.callbacks.EarlyStopping(monitor='val_loss', patience=5, restore_best_weights=True,\\\n",
    "                                             verbose=1)\n",
    "\n",
    "##Fit model\n",
    "model.compile(optimizer='adam', loss='mean_absolute_error', metrics=[tf.keras.metrics.MeanAbsoluteError()])\n",
    "\n",
    "##Train the model\n",
    "history = model.fit(x=x_train, y=y_train, batch_size=1024, epochs=100, validation_data=(x_dev, y_dev),\\\n",
    "                   callbacks=[earlystop])"
   ]
  },
  {
   "cell_type": "code",
   "execution_count": 13,
   "id": "66f92efd",
   "metadata": {
    "execution": {
     "iopub.execute_input": "2021-10-23T18:48:34.896296Z",
     "iopub.status.busy": "2021-10-23T18:48:34.894454Z",
     "iopub.status.idle": "2021-10-23T18:49:39.097619Z",
     "shell.execute_reply": "2021-10-23T18:49:39.098185Z",
     "shell.execute_reply.started": "2021-10-18T23:40:36.495597Z"
    },
    "papermill": {
     "duration": 83.193406,
     "end_time": "2021-10-23T18:49:39.098361",
     "exception": false,
     "start_time": "2021-10-23T18:48:15.904955",
     "status": "completed"
    },
    "tags": []
   },
   "outputs": [
    {
     "name": "stdout",
     "output_type": "stream",
     "text": [
      "118/118 [==============================] - 8s 67ms/step - loss: 0.4037 - mean_absolute_error: 0.4037\n"
     ]
    },
    {
     "data": {
      "text/plain": [
       "[0.40368565917015076, 0.40368565917015076]"
      ]
     },
     "execution_count": 13,
     "metadata": {},
     "output_type": "execute_result"
    }
   ],
   "source": [
    "model.save(\"./ventilator_extraFeatures_fnn1_lossMAE.h5\")\n",
    "##Evaluate model on dev set\n",
    "score = model.evaluate(x_dev, y_dev, batch_size=10240)\n",
    "score"
   ]
  },
  {
   "cell_type": "code",
   "execution_count": 14,
   "id": "04e08049",
   "metadata": {
    "execution": {
     "iopub.execute_input": "2021-10-23T18:50:18.175068Z",
     "iopub.status.busy": "2021-10-23T18:50:18.174286Z",
     "iopub.status.idle": "2021-10-23T18:50:55.684347Z",
     "shell.execute_reply": "2021-10-23T18:50:55.683826Z",
     "shell.execute_reply.started": "2021-10-18T14:53:17.371271Z"
    },
    "papermill": {
     "duration": 56.188231,
     "end_time": "2021-10-23T18:50:55.684523",
     "exception": false,
     "start_time": "2021-10-23T18:49:59.496292",
     "status": "completed"
    },
    "tags": []
   },
   "outputs": [
    {
     "name": "stdout",
     "output_type": "stream",
     "text": [
      "Done saving file\n"
     ]
    }
   ],
   "source": [
    "df_sub = pd.read_csv(\"/kaggle/input/ventilator-pressure-prediction/sample_submission.csv\", header=0)\n",
    "df_sub[\"pressure\"] = model.predict(df_test, batch_size=10240)\n",
    "df_sub.to_csv(\"./ventilator_extraFeatures_prev6_fnn1_lossMAE.csv\", index=False)\n",
    "print(\"Done saving file\")"
   ]
  },
  {
   "cell_type": "code",
   "execution_count": 15,
   "id": "fbf1f1d6",
   "metadata": {
    "execution": {
     "iopub.execute_input": "2021-10-23T18:51:33.706568Z",
     "iopub.status.busy": "2021-10-23T18:51:33.705873Z",
     "iopub.status.idle": "2021-10-23T18:52:30.630759Z",
     "shell.execute_reply": "2021-10-23T18:52:30.631257Z",
     "shell.execute_reply.started": "2021-10-18T20:32:36.62922Z"
    },
    "papermill": {
     "duration": 75.751491,
     "end_time": "2021-10-23T18:52:30.631446",
     "exception": false,
     "start_time": "2021-10-23T18:51:14.879955",
     "status": "completed"
    },
    "tags": []
   },
   "outputs": [
    {
     "name": "stdout",
     "output_type": "stream",
     "text": [
      "   id  pressure\n",
      "0   1  6.118701\n",
      "1   2  6.189003\n",
      "2   3  7.102931\n",
      "3   4  7.595046\n",
      "4   5  9.001088\n",
      "Done saving test prediction file\n"
     ]
    }
   ],
   "source": [
    "##Rounding off the predictions to closest from train dataset\n",
    "import pandas as pd\n",
    "import numpy as np\n",
    "\n",
    "# df_data_y_sort = np.sort(df_data.iloc[:,-1].unique())\n",
    "# print(len(df_data_y_sort))\n",
    "\n",
    "def searchNearest(prediction):\n",
    "    idx = np.searchsorted(df_data_y_sort, prediction)\n",
    "    #print(\"prediction= %s, idx= %s\" %(prediction,  idx))\n",
    "    if (idx >= df_data_y_sort.shape[0]-1):\n",
    "        ## If the number is greater than the largest value in sort array, return the largest element\n",
    "        return df_data_y_sort[-1]\n",
    "    \n",
    "    lowerVal = df_data_y_sort[idx]\n",
    "    upperVal = df_data_y_sort[idx+1]\n",
    "    return lowerVal if np.abs(lowerVal - prediction) < np.abs(upperVal - prediction) else upperVal\n",
    "\n",
    "#test_sub.drop(\"new_pressure\", axis=1, inplace=True)\n",
    "#test_sub = pd.read_csv(\"/kaggle/input/ventillator-extrafeaturesfnn/ventilator_extraFeatures_fnn1.csv\", header=0)\n",
    "test_sub = pd.read_csv(\"./ventilator_extraFeatures_prev6_fnn1_lossMAE.csv\", header=0)\n",
    "test_sub[\"pressure\"] = test_sub[\"pressure\"].apply(searchNearest)\n",
    "print(test_sub.head())\n",
    "test_sub.to_csv(\"./ventilator_extraFeatures_prev6_fnn1_lossMAE_round.csv\", index=False)\n",
    "print(\"Done saving test prediction file\")"
   ]
  }
 ],
 "metadata": {
  "kernelspec": {
   "display_name": "Python 3",
   "language": "python",
   "name": "python3"
  },
  "language_info": {
   "codemirror_mode": {
    "name": "ipython",
    "version": 3
   },
   "file_extension": ".py",
   "mimetype": "text/x-python",
   "name": "python",
   "nbconvert_exporter": "python",
   "pygments_lexer": "ipython3",
   "version": "3.7.10"
  },
  "papermill": {
   "default_parameters": {},
   "duration": 5911.174347,
   "end_time": "2021-10-23T18:52:52.529115",
   "environment_variables": {},
   "exception": null,
   "input_path": "__notebook__.ipynb",
   "output_path": "__notebook__.ipynb",
   "parameters": {},
   "start_time": "2021-10-23T17:14:21.354768",
   "version": "2.3.3"
  }
 },
 "nbformat": 4,
 "nbformat_minor": 5
}
