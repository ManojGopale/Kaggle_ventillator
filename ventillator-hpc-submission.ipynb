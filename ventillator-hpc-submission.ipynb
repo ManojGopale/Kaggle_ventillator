{
 "cells": [
  {
   "cell_type": "code",
   "execution_count": 1,
   "id": "9518f6f4",
   "metadata": {
    "_cell_guid": "b1076dfc-b9ad-4769-8c92-a6c4dae69d19",
    "_uuid": "8f2839f25d086af736a60e9eeb907d3b93b6e0e5",
    "execution": {
     "iopub.execute_input": "2021-11-01T04:21:32.470393Z",
     "iopub.status.busy": "2021-11-01T04:21:32.469700Z",
     "iopub.status.idle": "2021-11-01T04:21:32.480638Z",
     "shell.execute_reply": "2021-11-01T04:21:32.481068Z",
     "shell.execute_reply.started": "2021-11-01T04:20:23.114680Z"
    },
    "papermill": {
     "duration": 0.027408,
     "end_time": "2021-11-01T04:21:32.481376",
     "exception": false,
     "start_time": "2021-11-01T04:21:32.453968",
     "status": "completed"
    },
    "tags": []
   },
   "outputs": [
    {
     "name": "stdout",
     "output_type": "stream",
     "text": [
      "/kaggle/input/ventilator-pressure-prediction/sample_submission.csv\n",
      "/kaggle/input/ventilator-pressure-prediction/train.csv\n",
      "/kaggle/input/ventilator-pressure-prediction/test.csv\n",
      "/kaggle/input/hpc-files/ventilator_extraFeatures_ventillator_RNN_rerun_20.csv\n"
     ]
    }
   ],
   "source": [
    "# This Python 3 environment comes with many helpful analytics libraries installed\n",
    "# It is defined by the kaggle/python Docker image: https://github.com/kaggle/docker-python\n",
    "# For example, here's several helpful packages to load\n",
    "\n",
    "import numpy as np # linear algebra\n",
    "import pandas as pd # data processing, CSV file I/O (e.g. pd.read_csv)\n",
    "\n",
    "# Input data files are available in the read-only \"../input/\" directory\n",
    "# For example, running this (by clicking run or pressing Shift+Enter) will list all files under the input directory\n",
    "\n",
    "import os\n",
    "for dirname, _, filenames in os.walk('/kaggle/input'):\n",
    "    for filename in filenames:\n",
    "        print(os.path.join(dirname, filename))\n",
    "\n",
    "# You can write up to 20GB to the current directory (/kaggle/working/) that gets preserved as output when you create a version using \"Save & Run All\" \n",
    "# You can also write temporary files to /kaggle/temp/, but they won't be saved outside of the current session"
   ]
  },
  {
   "cell_type": "code",
   "execution_count": 2,
   "id": "57ad012a",
   "metadata": {
    "execution": {
     "iopub.execute_input": "2021-11-01T04:21:32.497078Z",
     "iopub.status.busy": "2021-11-01T04:21:32.496502Z",
     "iopub.status.idle": "2021-11-01T04:21:45.720438Z",
     "shell.execute_reply": "2021-11-01T04:21:45.720859Z",
     "shell.execute_reply.started": "2021-11-01T04:20:27.980019Z"
    },
    "papermill": {
     "duration": 13.234586,
     "end_time": "2021-11-01T04:21:45.721022",
     "exception": false,
     "start_time": "2021-11-01T04:21:32.486436",
     "status": "completed"
    },
    "tags": []
   },
   "outputs": [
    {
     "name": "stdout",
     "output_type": "stream",
     "text": [
      "(6036000, 8)\n"
     ]
    }
   ],
   "source": [
    "##Analyze the ventillator pressure dataset\n",
    "import pandas as pd\n",
    "import numpy as np\n",
    "##Create a NN model\n",
    "import tensorflow as tf\n",
    "from tensorflow.keras.models import Sequential, load_model\n",
    "from tensorflow.keras.layers import Dense, Activation, Dropout, LSTM, GRU, Bidirectional\n",
    "from tensorflow.keras.callbacks import CSVLogger, TensorBoard, ModelCheckpoint, EarlyStopping\n",
    "from tensorflow.keras.preprocessing.sequence import TimeseriesGenerator\n",
    "from tensorflow.keras.preprocessing import timeseries_dataset_from_array\n",
    "import gc\n",
    "\n",
    "\n",
    "trainDataPath = \"/kaggle/input/ventilator-pressure-prediction/train.csv\"\n",
    "df_data = pd.read_csv(trainDataPath, header=0)\n",
    "\n",
    "df_data.head()\n",
    "#df_data.describe()\n",
    "\n",
    "# testDataPath = \"/kaggle/input/ventilator-pressure-prediction/test.csv\"\n",
    "# df_test = pd.read_csv(testDataPath, header=0)\n",
    "\n",
    "# df_test.head()\n",
    "\n",
    "DEBUG= False\n",
    "if DEBUG:\n",
    "    df_data = df_data.iloc[:80*100, :]\n",
    "#     df_test = df_test.iloc[:80*100, :]\n",
    "print(df_data.shape)\n",
    "# print(df_test.shape)"
   ]
  },
  {
   "cell_type": "code",
   "execution_count": 3,
   "id": "496d1611",
   "metadata": {
    "execution": {
     "iopub.execute_input": "2021-11-01T04:21:45.734156Z",
     "iopub.status.busy": "2021-11-01T04:21:45.733454Z",
     "iopub.status.idle": "2021-11-01T04:21:45.738261Z",
     "shell.execute_reply": "2021-11-01T04:21:45.737754Z",
     "shell.execute_reply.started": "2021-10-31T17:08:02.789439Z"
    },
    "papermill": {
     "duration": 0.012487,
     "end_time": "2021-11-01T04:21:45.738401",
     "exception": false,
     "start_time": "2021-11-01T04:21:45.725914",
     "status": "completed"
    },
    "tags": []
   },
   "outputs": [],
   "source": [
    "def searchNearest(prediction):\n",
    "    idx = np.searchsorted(df_data_y_sort, prediction)\n",
    "    #print(\"prediction= %s, idx= %s\" %(prediction,  idx))\n",
    "    if (idx >= df_data_y_sort.shape[0]-1):\n",
    "        ## If the number is greater than the largest value in sort array, return the largest element\n",
    "        return df_data_y_sort[-1]\n",
    "    \n",
    "    lowerVal = df_data_y_sort[idx]\n",
    "    upperVal = df_data_y_sort[idx+1]\n",
    "    return lowerVal if np.abs(lowerVal - prediction) < np.abs(upperVal - prediction) else upperVal\n"
   ]
  },
  {
   "cell_type": "code",
   "execution_count": 4,
   "id": "b8d73b4c",
   "metadata": {
    "execution": {
     "iopub.execute_input": "2021-11-01T04:21:45.757437Z",
     "iopub.status.busy": "2021-11-01T04:21:45.756264Z",
     "iopub.status.idle": "2021-11-01T04:21:45.846413Z",
     "shell.execute_reply": "2021-11-01T04:21:45.846837Z",
     "shell.execute_reply.started": "2021-10-31T17:08:05.810815Z"
    },
    "papermill": {
     "duration": 0.103729,
     "end_time": "2021-11-01T04:21:45.847009",
     "exception": false,
     "start_time": "2021-11-01T04:21:45.743280",
     "status": "completed"
    },
    "tags": []
   },
   "outputs": [],
   "source": [
    "df_y_data = df_data[\"pressure\"].copy()\n",
    "targets = df_y_data.to_numpy().reshape(-1, 80)\n",
    "df_data_y_sort = np.sort(df_y_data.unique())\n",
    "#print(df_data_y_sort)"
   ]
  },
  {
   "cell_type": "code",
   "execution_count": 5,
   "id": "663ff3b7",
   "metadata": {
    "execution": {
     "iopub.execute_input": "2021-11-01T04:21:45.860088Z",
     "iopub.status.busy": "2021-11-01T04:21:45.859254Z",
     "iopub.status.idle": "2021-11-01T04:22:26.233414Z",
     "shell.execute_reply": "2021-11-01T04:22:26.233952Z",
     "shell.execute_reply.started": "2021-10-31T17:08:56.110812Z"
    },
    "papermill": {
     "duration": 40.382497,
     "end_time": "2021-11-01T04:22:26.234389",
     "exception": false,
     "start_time": "2021-11-01T04:21:45.851892",
     "status": "completed"
    },
    "tags": []
   },
   "outputs": [
    {
     "name": "stdout",
     "output_type": "stream",
     "text": [
      "   id  pressure\n",
      "0   1  6.259305\n",
      "1   2  5.907794\n",
      "2   3  7.243535\n",
      "3   4  7.876254\n",
      "4   5  9.141693\n"
     ]
    }
   ],
   "source": [
    "subFile = \"/kaggle/input/hpc-files/ventilator_extraFeatures_ventillator_RNN_rerun_20.csv\"\n",
    "oldName = subFile.split(\"/\")[-1].split(\"_\")\n",
    "newName = \"./\" + \"_\".join(oldName[:-1]) + \"_round\" + oldName[-1]\n",
    "test_sub = pd.read_csv(subFile, header=0)\n",
    "#test_sub.shape\n",
    "test_sub[\"pressure\"] = test_sub[\"pressure\"].apply(searchNearest)\n",
    "print(test_sub.head())\n",
    "test_sub.to_csv(newName, index=False)"
   ]
  }
 ],
 "metadata": {
  "kernelspec": {
   "display_name": "Python 3",
   "language": "python",
   "name": "python3"
  },
  "language_info": {
   "codemirror_mode": {
    "name": "ipython",
    "version": 3
   },
   "file_extension": ".py",
   "mimetype": "text/x-python",
   "name": "python",
   "nbconvert_exporter": "python",
   "pygments_lexer": "ipython3",
   "version": "3.7.10"
  },
  "papermill": {
   "default_parameters": {},
   "duration": 64.411657,
   "end_time": "2021-11-01T04:22:29.192261",
   "environment_variables": {},
   "exception": null,
   "input_path": "__notebook__.ipynb",
   "output_path": "__notebook__.ipynb",
   "parameters": {},
   "start_time": "2021-11-01T04:21:24.780604",
   "version": "2.3.3"
  }
 },
 "nbformat": 4,
 "nbformat_minor": 5
}
